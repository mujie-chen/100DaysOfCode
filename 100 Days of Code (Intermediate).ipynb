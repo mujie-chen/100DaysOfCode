{
 "cells": [
  {
   "cell_type": "markdown",
   "id": "0cf3b99c-085e-40f9-a80a-a6a4dfbf4976",
   "metadata": {},
   "source": [
    "### <b>intermediate starts here</b>\n",
    "multi-line editing: select lines using option+shift. command+R to run code. PEP8 recommends each line of code not be more than 120 characters."
   ]
  },
  {
   "cell_type": "markdown",
   "id": "91f09f62-dbeb-434a-9059-186c54510854",
   "metadata": {},
   "source": [
    "<b>Project 15: Coffee Machine Project</b><br>\n",
    "The goal is to build the program for a coffee machine.<br>\n",
    "Program requirements:<br>\n",
    "1. Prompt user by asking “What would you like? (espresso/latte/cappuccino):”.<br>\n",
    "a. Check the user’s input to decide what to do next.<br>\n",
    "b. The prompt should show every time action has completed, e.g. once the drink is\n",
    "dispensed. The prompt should show again to serve the next customer.\n",
    "2. Turn off the Coffee Machine by entering “ off ” to the prompt.<br>\n",
    "a. For maintainers of the coffee machine, they can use “off” as the secret word to turn off\n",
    "the machine. Your code should end execution when this happens.\n",
    "3. Print report.<br>\n",
    "a. When the user enters “report” to the prompt, a report should be generated that shows\n",
    "the current resource values. e.g.<br>\n",
    "Water: 100ml<br>\n",
    "Milk: 50ml<br>\n",
    "Coffee: 76g<br>\n",
    "Money: \\\\$2.5<br>\n",
    "4. Check resources sufficient?<br>\n",
    "a. When the user chooses a drink, the program should check if there are enough\n",
    "resources to make that drink.<br>\n",
    "b. E.g. if Latte requires 200ml water but there is only 100ml left in the machine. It should\n",
    "not continue to make the drink but print: “Sorry there is not enough water.”<br>\n",
    "c. The same should happen if another resource is depleted, e.g. milk or coffee.<br>\n",
    "5. Process coins.<br>\n",
    "a. If there are sufficient resources to make the drink selected, then the program should\n",
    "prompt the user to insert coins.<br>\n",
    "b. Remember that quarters = \\\\$0.25, dimes = \\\\$0.10, nickles = \\\\$0.05, pennies = \\\\$0.01<br>\n",
    "c. Calculate the monetary value of the coins inserted. E.g. 1 quarter, 2 dimes, 1 nickel, 2\n",
    "pennies = 0.25 + 0.1 x 2 + 0.05 + 0.01 x 2 = \\\\$0.52<br>\n",
    "6. Check transaction successful?<br>\n",
    "a. Check that the user has inserted enough money to purchase the drink they selected.\n",
    "E.g Latte cost \\\\$2.50, but they only inserted \\\\$0.52 then after counting the coins the\n",
    "program should say “Sorry that's not enough money. Money refunded.”.<br>\n",
    "b. But if the user has inserted enough money, then the cost of the drink gets added to the\n",
    "machine as the profit and this will be reflected the next time “report” is triggered. E.g.<br>\n",
    "Water: 100ml<br>\n",
    "Milk: 50ml<br>\n",
    "Coffee: 76g<br>\n",
    "Money: \\\\$2.5<br>\n",
    "c. If the user has inserted too much money, the machine should offer change. E.g. “Here is \\\\$2.45 dollars in change.” The change should be rounded to 2 decimal places<br>\n",
    "7. Make Coffee.<br>\n",
    "a. If the transaction is successful and there are enough resources to make the drink the\n",
    "user selected, then the ingredients to make the drink should be deducted from the\n",
    "coffee machine resources. E.g. <br>\n",
    "Report before purchasing latte:<br>\n",
    "Water: 300ml<br>\n",
    "Milk: 200ml<br>\n",
    "Coffee: 100g<br>\n",
    "Money: $0<br>\n",
    "Report after purchasing latte:<br>\n",
    "Water: 100ml<br>\n",
    "Milk: 50ml<br>\n",
    "Coffee: 76g<br>\n",
    "Money: \\\\$2.5<br>\n",
    "b. Once all resources have been deducted, tell the user “Here is your latte. Enjoy!”. If latte was their choice of drink."
   ]
  },
  {
   "cell_type": "code",
   "execution_count": 2,
   "id": "c6f96728-50f1-4b12-9835-a5f7fd68cd93",
   "metadata": {},
   "outputs": [
    {
     "name": "stdin",
     "output_type": "stream",
     "text": [
      "What would you like? (espresso/latte/cappuccino):  latte\n"
     ]
    },
    {
     "name": "stdout",
     "output_type": "stream",
     "text": [
      "A latte costs 2.50\n",
      "Please insert coins.\n"
     ]
    },
    {
     "name": "stdin",
     "output_type": "stream",
     "text": [
      "How many pennies?:  4\n",
      "How many nickels?:  4\n",
      "How many dimes?:  4\n",
      "How many quarters?:  4\n"
     ]
    },
    {
     "name": "stdout",
     "output_type": "stream",
     "text": [
      "$1.64 is insufficient. Refunding money.\n"
     ]
    },
    {
     "name": "stdin",
     "output_type": "stream",
     "text": [
      "What would you like? (espresso/latte/cappuccino):  latte\n"
     ]
    },
    {
     "name": "stdout",
     "output_type": "stream",
     "text": [
      "A latte costs 2.50\n",
      "Please insert coins.\n"
     ]
    },
    {
     "name": "stdin",
     "output_type": "stream",
     "text": [
      "How many pennies?:  8\n",
      "How many nickels?:  8\n",
      "How many dimes?:  8\n",
      "How many quarters?:  8\n"
     ]
    },
    {
     "name": "stdout",
     "output_type": "stream",
     "text": [
      "Here is $0.78 in change: \n",
      "Latte Dispensing... Please wait...\n",
      "Water: 100ml\n",
      "Milk: 50ml\n",
      "Coffee: 76ml\n",
      "Drinks Sold: 1\n",
      "Total Sales = $2.5\n",
      "Here is your Latte. Enjoy! ☕️ \n"
     ]
    },
    {
     "name": "stdin",
     "output_type": "stream",
     "text": [
      "What would you like? (espresso/latte/cappuccino):  cappuccino\n"
     ]
    },
    {
     "name": "stdout",
     "output_type": "stream",
     "text": [
      "Sorry, but there isn't enough water and milk\n"
     ]
    },
    {
     "name": "stdin",
     "output_type": "stream",
     "text": [
      "What would you like? (espresso/latte/cappuccino):  report\n"
     ]
    },
    {
     "name": "stdout",
     "output_type": "stream",
     "text": [
      "Water: 100ml\n",
      "Milk: 50ml\n",
      "Coffee: 76ml\n",
      "Drinks Sold: 1\n",
      "Total Sales = $2.5\n"
     ]
    },
    {
     "name": "stdin",
     "output_type": "stream",
     "text": [
      "What would you like? (espresso/latte/cappuccino):  off\n"
     ]
    }
   ],
   "source": [
    "MENU = {\n",
    "    \"espresso\": {\n",
    "        \"ingredients\": {\n",
    "            \"water\": 50,\n",
    "            \"milk\": 0,\n",
    "            \"coffee\": 18,\n",
    "        },\n",
    "        \"cost\": 1.5,\n",
    "    },\n",
    "    \"latte\": {\n",
    "        \"ingredients\": {\n",
    "            \"water\": 200,\n",
    "            \"milk\": 150,\n",
    "            \"coffee\": 24,\n",
    "        },\n",
    "        \"cost\": 2.5,\n",
    "    },\n",
    "    \"cappuccino\": {\n",
    "        \"ingredients\": {\n",
    "            \"water\": 250,\n",
    "            \"milk\": 100,\n",
    "            \"coffee\": 24,\n",
    "        },\n",
    "        \"cost\": 3.0,\n",
    "    }\n",
    "}\n",
    "\n",
    "drinks_sold = 0\n",
    "sales = 0\n",
    "\n",
    "resources = {\n",
    "    \"water\": 300,\n",
    "    \"milk\": 200,\n",
    "    \"coffee\": 100,\n",
    "}\n",
    "\n",
    "def report():\n",
    "    \"\"\" Provides a report of each of the components, including total sales \"\"\"\n",
    "    print(f\"Water: {resources['water']}ml\\nMilk: {resources['milk']}ml\\nCoffee: {resources['coffee']}ml\\nDrinks Sold: {drinks_sold}\\nTotal Sales = ${sales}\")\n",
    "#or use option+shift to select multiple lines for multi-line editing\n",
    "\n",
    "def check_resources(drink_choice):\n",
    "    \"\"\" Checks if resources are available to make specified drink, returning the lacking component and True if sufficient \"\"\"\n",
    "    insufficient_components = []\n",
    "\n",
    "    for resource in resources:\n",
    "        if resources[resource] < MENU[drink_choice]['ingredients'][resource]:\n",
    "            insufficient_components.append(resource)\n",
    "\n",
    "    is_sufficient = len(insufficient_components) == 0\n",
    "    return is_sufficient, insufficient_components\n",
    "\n",
    "def check_money(coin1, coin2, coin3, coin4, drink_choice):\n",
    "    \"\"\" Totals the values of each coin, as well as if the money provided is greater than the cost \"\"\"\n",
    "    total = coin1 * 0.01 + coin2 * 0.05 + coin3 * 0.1 + coin4 * 0.25\n",
    "    return total, total >= MENU[drink_choice]['cost']\n",
    "\n",
    "def make_coffee(drink_choice):\n",
    "    \"\"\" Dispenses coffee, and updates the resources to reflect the new balance \"\"\"\n",
    "    #dispense_coffee()\n",
    "    for ingredient in MENU[drink_choice]['ingredients']: #deduct resources\n",
    "        resources[ingredient] -= MENU[drink_choice]['ingredients'][ingredient]\n",
    "    report()\n",
    "\n",
    "machine_status = 'on'\n",
    "\n",
    "while machine_status == 'on':\n",
    "    coffee_selected = input(\"What would you like? (espresso/latte/cappuccino): \").lower()\n",
    "\n",
    "    if coffee_selected == 'off':\n",
    "        machine_status = 'off'\n",
    "\n",
    "    elif coffee_selected == 'report':\n",
    "        report()\n",
    "\n",
    "    else:\n",
    "        check_resources(coffee_selected)\n",
    "        if check_resources(coffee_selected)[0]:\n",
    "            print(f\"A {coffee_selected} costs {MENU[coffee_selected]['cost']:.2f}\")\n",
    "\n",
    "            print(\"Please insert coins.\")\n",
    "\n",
    "            pennies = float(input(\"How many pennies?: \"))\n",
    "            nickels = float(input(\"How many nickels?: \"))\n",
    "            dimes = float(input(\"How many dimes?: \"))\n",
    "            quarters = float(input(\"How many quarters?: \"))\n",
    "\n",
    "            money_provided = check_money(pennies, nickels, dimes, quarters, coffee_selected)[0]\n",
    "\n",
    "            if check_money(pennies, nickels, dimes, quarters, coffee_selected)[1]:\n",
    "                if money_provided > MENU[coffee_selected]['cost']:\n",
    "                    change = money_provided - MENU[coffee_selected]['cost']\n",
    "                    sales += MENU[coffee_selected]['cost']\n",
    "                    drinks_sold += 1\n",
    "                    print(f\"Here is ${change:.2f} in change: \")\n",
    "\n",
    "                print(f\"{coffee_selected.capitalize()} Dispensing... Please wait...\")\n",
    "\n",
    "                make_coffee(coffee_selected)\n",
    "\n",
    "                print(f\"Here is your {coffee_selected.capitalize()}. Enjoy! ☕️ \")\n",
    "\n",
    "            else:\n",
    "                print(f\"${money_provided:.2f} is insufficient. Refunding money.\")\n",
    "        else:\n",
    "            insufficient_resources =  check_resources(coffee_selected)[1]\n",
    "            print(f\"Sorry, but there isn't enough {' and '.join(insufficient_resources)}\")\n"
   ]
  },
  {
   "cell_type": "markdown",
   "id": "5c327eea-6c92-47c1-b606-3f9168ceffb3",
   "metadata": {},
   "source": [
    "### <b>Object Oriented Programming<b>\n",
    "Procedural programming is one of the earliest paradigms of programming (fortran/cobol), where codes are structured into sequences of instructions, relying on predefined functions with variables, loops and conditional to control flow. however, this gets very cluttered with complex projects. this is preferred for simple programs.<br>\n",
    "On the other hand, OOP allows the separation of a huge project into constituent pieces, where each piece can be assigned independently to someone to code for á la a restaurant manager hiring a chef, waiter and cleaner. OOP is at a higher level but still uses procedures, which it abstracts away under method calls.<br>\n",
    "#### Terminology\n",
    "A class (e.g. waiter) contains blueprints for its objects, which include attributes (e.g. has: plates, tables [4, 5, 6]) and methods (e.g. does: take_order, take_payment)<br>\n",
    "An object is an instance of a class e.g. waiter.take_order; waiter.serve_drinks; waiter.take_payment"
   ]
  },
  {
   "cell_type": "code",
   "execution_count": 1,
   "id": "868291fe-24f2-41c8-b71a-767e76efe8f3",
   "metadata": {},
   "outputs": [
    {
     "name": "stdout",
     "output_type": "stream",
     "text": [
      "<turtle.Turtle object at 0x107d84040>\n",
      "300\n"
     ]
    },
    {
     "name": "stderr",
     "output_type": "stream",
     "text": [
      "2025-03-30 19:19:11.955 Python[74259:4148365] +[IMKClient subclass]: chose IMKClient_Modern\n",
      "2025-03-30 19:19:11.955 Python[74259:4148365] +[IMKInputSession subclass]: chose IMKInputSession_Modern\n"
     ]
    }
   ],
   "source": [
    "from turtle import Turtle, Screen #classes use PascalCase by convention\n",
    "\n",
    "timmy = Turtle() #creating an object \"timmy\" and setting it equal to the Turtle class blueprint\n",
    "#classes will have an icon \"c\" in interpreters\n",
    "\n",
    "#modifying attributes\n",
    "timmy.shape(\"turtle\") #changes the shape of timmy; Python:Turtle doc\n",
    "timmy.color(\"coral\")\n",
    "\n",
    "#modifying methods\n",
    "timmy.forward(100) #move forward by 100 paces\n",
    "\n",
    "print(timmy) #shows memory location\n",
    "\n",
    "my_screen = Screen() #this object is the window that the turtle will appear in\n",
    "\n",
    "print(my_screen.canvheight) #canvheight is an attribute of the my_screen object; accessed by a period\n",
    "\n",
    "my_screen.exitonclick() #exitonclick is a method of the my_screen object: window will stay until clicked\n"
   ]
  },
  {
   "cell_type": "markdown",
   "id": "ddad7c9d-c165-4fea-9bde-1ada3b0ab86d",
   "metadata": {},
   "source": [
    "#### Pypi.org\n",
    "[Pypi](https://www.pypi.org) is a directory for packages (a directory of modules + an __init__.py file) and libraries (a collection of packages and modules). it includes the documentation for all the functionality included in the package. external packages must be installed if they are not part of the standard Python library. from the terminal e.g. pip install prettytable<br>\n",
    "> pip (PIP installs packages) is a recursive acronym which follows a common programming joke where recursive acroynms define themselves e.g. GNU = GNU's not unix"
   ]
  },
  {
   "cell_type": "code",
   "execution_count": 14,
   "id": "39f1eb12-18ad-43dc-9568-126edc70eb99",
   "metadata": {},
   "outputs": [
    {
     "name": "stdout",
     "output_type": "stream",
     "text": [
      "{'base_align_value': 'c', 'Name': 'r', 'Age': 'r', 'Country': 'r'}\n",
      "+---------+-----+---------+\n",
      "|    Name | Age | Country |\n",
      "+---------+-----+---------+\n",
      "|   Alice |  25 |     USA |\n",
      "|     Bob |  30 |      UK |\n",
      "| Charlie |  28 |  Canada |\n",
      "+---------+-----+---------+\n"
     ]
    }
   ],
   "source": [
    "#!{sys.executable} -m pip install prettytable\n",
    "\n",
    "from prettytable import PrettyTable\n",
    "\n",
    "table = PrettyTable([\"Name\", \"Age\", \"Country\"])\n",
    "table.add_row([\"Alice\", 25, \"USA\"]) #in an IDE it shows the arguments that this method can take\n",
    "table.add_row([\"Bob\", 30, \"UK\"])\n",
    "table.add_row([\"Charlie\", 28, \"Canada\"])\n",
    "\n",
    "table.align = 'r' #changing an attribute; align has 3 options according to the prettytable documentation\n",
    "\n",
    "print(table.align)\n",
    "\n",
    "print(table)\n"
   ]
  },
  {
   "cell_type": "markdown",
   "id": "f761fe43-27b9-4073-99a0-a4778c058a3e",
   "metadata": {},
   "source": [
    "<b>Project 16: Coffee Machine Program Revisited with OOP<b><br>\n",
    "1. Print Report\n",
    "2. Check resources sufficient?\n",
    "3. Process coins\n",
    "4. Check transaction successful?\n",
    "5. Make coffee\n"
   ]
  },
  {
   "cell_type": "code",
   "execution_count": 27,
   "id": "13b97c7b-fdc0-4827-89a3-742d42c458d2",
   "metadata": {},
   "outputs": [
    {
     "name": "stdout",
     "output_type": "stream",
     "text": [
      "Water: 300ml\n",
      "Milk: 200ml\n",
      "Coffee: 100g\n",
      "Money: $0\n"
     ]
    },
    {
     "name": "stdin",
     "output_type": "stream",
     "text": [
      "What would you like to drink? latte/espresso/cappuccino/:  latte\n"
     ]
    },
    {
     "name": "stdout",
     "output_type": "stream",
     "text": [
      "Please insert coins.\n"
     ]
    },
    {
     "name": "stdin",
     "output_type": "stream",
     "text": [
      "How many quarters?:  10\n",
      "How many dimes?:  10\n",
      "How many nickles?:  10\n",
      "How many pennies?:  10\n"
     ]
    },
    {
     "name": "stdout",
     "output_type": "stream",
     "text": [
      "Here is $1.6 in change.\n",
      "Here is your latte ☕️. Enjoy!\n"
     ]
    },
    {
     "name": "stdin",
     "output_type": "stream",
     "text": [
      "What would you like to drink? latte/espresso/cappuccino/:  cappuccino\n"
     ]
    },
    {
     "name": "stdout",
     "output_type": "stream",
     "text": [
      "Sorry there is not enough water.\n"
     ]
    },
    {
     "name": "stdin",
     "output_type": "stream",
     "text": [
      "What would you like to drink? latte/espresso/cappuccino/:  latte\n"
     ]
    },
    {
     "name": "stdout",
     "output_type": "stream",
     "text": [
      "Sorry there is not enough water.\n",
      "Sorry there is not enough milk.\n"
     ]
    },
    {
     "name": "stdin",
     "output_type": "stream",
     "text": [
      "What would you like to drink? latte/espresso/cappuccino/:  off\n"
     ]
    }
   ],
   "source": [
    "from coffeemaker import CoffeeMaker, Menu, MenuItem, MoneyMachine #i turned the provided modules into a package\n",
    "\n",
    "coffee_maker = CoffeeMaker()\n",
    "money_machine = MoneyMachine()\n",
    "menu = Menu()\n",
    "\n",
    "is_on = True\n",
    "\n",
    "coffee_maker.report()\n",
    "money_machine.report()\n",
    "\n",
    "while is_on:\n",
    "    options = menu.get_items()\n",
    "    choice = input(f\"What would you like to drink? {options}: \").lower()\n",
    "\n",
    "    if choice == 'off':\n",
    "        is_on = False\n",
    "    elif choice == 'report':\n",
    "        coffee_maker.report()\n",
    "        money_machine.report()\n",
    "    else:\n",
    "        drink = menu.find_drink(choice) #checks and says item is not available if doesn't exit\n",
    "        if coffee_maker.is_resource_sufficient(drink) and money_machine.make_payment(drink.cost): #checks ingredients for drink, returning T/F\n",
    "                                            #collects coins, calls a nested function to check if total is enough, and returns T/F\n",
    "                coffee_maker.make_coffee(drink)\n"
   ]
  },
  {
   "cell_type": "markdown",
   "id": "d5855edf-c477-4053-8f21-6cfe79893067",
   "metadata": {},
   "source": [
    "#### <b>Creating Classes<b>\n",
    "Creating a blueprint for an object, containing all the possible attributes and methods for that object. Using the python constructor (__init__(self)), an instance method that is called automatically when the object is created, to initialise values for the object's attributes. <br>\n",
    "PascalCase is the convention for class names, as opposed to other contexts like camelCase or snake_case (the other most common case in Python)."
   ]
  },
  {
   "cell_type": "code",
   "execution_count": 12,
   "id": "0e6c1361-86b6-4b4e-b31e-882d4453ef2a",
   "metadata": {},
   "outputs": [
    {
     "name": "stdout",
     "output_type": "stream",
     "text": [
      "Angela\n",
      "1\n",
      "0\n",
      "0\n",
      "1\n"
     ]
    }
   ],
   "source": [
    "class User:\n",
    "    pass # pass avoids 'indent expected' errors in IDEs for having no content after a semicolon\n",
    "\n",
    "user_1 = User() # creating a new object from the class\n",
    "user_1.id = \"001\" \n",
    "user_1.username = \"Angela\" # manually initialising attributes of the object\n",
    "\n",
    "print(user_1.username)\n",
    "\n",
    "class Car:\n",
    "    def __init__(self, seats): # takes seat number as an argument during initialisation\n",
    "        self.seats = seats\n",
    "    def enter_race_mode(self): # defining a method modifying itself\n",
    "        self.seats = 2\n",
    "\n",
    "my_car = Car(5) # abstracts away from having to use my_car.seats = 5\n",
    "my_car.enter_race_mode()\n",
    "\n",
    "class User: # redefining here means the previous class is overwritten; not recommended\n",
    "    def __init__(self, user_id, username):\n",
    "        self.id = user_id # attribute name same as argument name, though not necessary\n",
    "        self.username = username\n",
    "        self.followers = 0 # can initialise a default value or a counter, not requiring input as an argument\n",
    "        self.following = 0\n",
    "\n",
    "    def follow(self, user):\n",
    "        self.following += 1 # add to self counter\n",
    "        user.followers += 1 # add to the followed person's counter\n",
    "                \n",
    "user_1 = User(\"001\", \"Angela\" )# but unable to take less than 2 arguments when initialising\n",
    "user_2 = User(\"002\", \"Tom\") \n",
    "\n",
    "user_1.follow(user_2) # Angela is now following Tom\n",
    "print(user_1.following)\n",
    "print(user_1.followers)\n",
    "print(user_2.following)\n",
    "print(user_2.followers)\n"
   ]
  },
  {
   "cell_type": "markdown",
   "id": "5d68e121-62f4-46c2-9fa4-674b77396c68",
   "metadata": {},
   "source": [
    "### <b>The Quiz Project<b>\n",
    "The quiz asks true/false questions from a question bank, takes answers and tells the player if they got it right. It keeps track of the scores, terminates when all the questions have been asked, and tells the player his final score.<br>\n",
    "To generate more question banks, [OpenTriviaDB](https://opentdb.com/) provides a database of questions that can be used to plug and play, filtered by category, difficulty, and response type. It generates an API url of the questions in Javascript format, equivalent to the Python dictionary of question_data.<br>\n",
    "To transform the question bank to be usable, use \"format code\" to clean up data. question_data contains a response_code, and a list of \"results\", which is a collection of dictionaries containing the category, type, difficulty, and correct and incorrect answers. the enclosing dictionary can be removed, along with response_code, to leave a list of dictionaries. Reformat again, check the key:value pairs and make sure question_bank generation refers to the correct keys.<br><br>\n",
    "The modularity of OOP enables main.py (just question_bank creation and while True loop) to continue working regardless of the data provided, so that someone else can focus on writing the quizzes (as opposed to procedural code)."
   ]
  },
  {
   "cell_type": "code",
   "execution_count": 33,
   "id": "8b14b378-2838-4c07-bb06-9bbf5958f824",
   "metadata": {},
   "outputs": [
    {
     "name": "stdin",
     "output_type": "stream",
     "text": [
      "Q1: A slug's blood is green.. (True/False):  True\n"
     ]
    },
    {
     "name": "stdout",
     "output_type": "stream",
     "text": [
      "You got it right!\n",
      "The correct answer was True\n",
      "Your current score is 1/1\n",
      "\n"
     ]
    },
    {
     "name": "stdin",
     "output_type": "stream",
     "text": [
      "Q2: The loudest animal is the African Elephant.. (True/False):  False\n"
     ]
    },
    {
     "name": "stdout",
     "output_type": "stream",
     "text": [
      "You got it right!\n",
      "The correct answer was False\n",
      "Your current score is 2/2\n",
      "\n"
     ]
    },
    {
     "name": "stdin",
     "output_type": "stream",
     "text": [
      "Q3: Approximately one-quarter of human bones are in the feet.. (True/False):  True\n"
     ]
    },
    {
     "name": "stdout",
     "output_type": "stream",
     "text": [
      "You got it right!\n",
      "The correct answer was True\n",
      "Your current score is 3/3\n",
      "\n"
     ]
    },
    {
     "name": "stdin",
     "output_type": "stream",
     "text": [
      "Q4: The total surface area of a human lungs is the size of a football pitch.. (True/False):  True\n"
     ]
    },
    {
     "name": "stdout",
     "output_type": "stream",
     "text": [
      "You got it right!\n",
      "The correct answer was True\n",
      "Your current score is 4/4\n",
      "\n"
     ]
    },
    {
     "name": "stdin",
     "output_type": "stream",
     "text": [
      "Q5: In West Virginia, USA, if you accidentally hit an animal with your car, you are free to take it home to eat.. (True/False):  True\n"
     ]
    },
    {
     "name": "stdout",
     "output_type": "stream",
     "text": [
      "You got it right!\n",
      "The correct answer was True\n",
      "Your current score is 5/5\n",
      "\n"
     ]
    },
    {
     "name": "stdin",
     "output_type": "stream",
     "text": [
      "Q6: In London, UK, if you happen to die in the House of Parliament, you are entitled to a state funeral.. (True/False):  True\n"
     ]
    },
    {
     "name": "stdout",
     "output_type": "stream",
     "text": [
      "That's wrong.\n",
      "The correct answer was False\n",
      "Your current score is 5/6\n",
      "\n"
     ]
    },
    {
     "name": "stdin",
     "output_type": "stream",
     "text": [
      "Q7: It is illegal to pee in the Ocean in Portugal.. (True/False):  True\n"
     ]
    },
    {
     "name": "stdout",
     "output_type": "stream",
     "text": [
      "You got it right!\n",
      "The correct answer was True\n",
      "Your current score is 6/7\n",
      "\n"
     ]
    },
    {
     "name": "stdin",
     "output_type": "stream",
     "text": [
      "Q8: You can lead a cow downstairs but not upstairs.. (True/False):  True\n"
     ]
    },
    {
     "name": "stdout",
     "output_type": "stream",
     "text": [
      "That's wrong.\n",
      "The correct answer was False\n",
      "Your current score is 6/8\n",
      "\n"
     ]
    },
    {
     "name": "stdin",
     "output_type": "stream",
     "text": [
      "Q9: Google was originally called 'Backrub'.. (True/False):  True\n"
     ]
    },
    {
     "name": "stdout",
     "output_type": "stream",
     "text": [
      "You got it right!\n",
      "The correct answer was True\n",
      "Your current score is 7/9\n",
      "\n"
     ]
    },
    {
     "name": "stdin",
     "output_type": "stream",
     "text": [
      "Q10: Buzz Aldrin's mother's maiden name was 'Moon'.. (True/False):  True\n"
     ]
    },
    {
     "name": "stdout",
     "output_type": "stream",
     "text": [
      "You got it right!\n",
      "The correct answer was True\n",
      "Your current score is 8/10\n",
      "\n"
     ]
    },
    {
     "name": "stdin",
     "output_type": "stream",
     "text": [
      "Q11: No piece of square dry paper can be folded in half more than 7 times.. (True/False):  True\n"
     ]
    },
    {
     "name": "stdout",
     "output_type": "stream",
     "text": [
      "That's wrong.\n",
      "The correct answer was False\n",
      "Your current score is 8/11\n",
      "\n"
     ]
    },
    {
     "name": "stdin",
     "output_type": "stream",
     "text": [
      "Q12: A few ounces of chocolate can kill a small dog.. (True/False):  True\n"
     ]
    },
    {
     "name": "stdout",
     "output_type": "stream",
     "text": [
      "You got it right!\n",
      "The correct answer was True\n",
      "Your current score is 9/12\n",
      "\n",
      "You've completed the quiz\n",
      "Your final score was: 9/12\n"
     ]
    }
   ],
   "source": [
    "question_data = [\n",
    "    {\"text\": \"A slug's blood is green.\", \"answer\": \"True\"},\n",
    "    {\"text\": \"The loudest animal is the African Elephant.\", \"answer\": \"False\"},\n",
    "    {\"text\": \"Approximately one-quarter of human bones are in the feet.\", \"answer\": \"True\"},\n",
    "    {\"text\": \"The total surface area of a human lungs is the size of a football pitch.\", \"answer\": \"True\"},\n",
    "    {\"text\": \"In West Virginia, USA, if you accidentally hit an animal with your car, you are free to take it home to eat.\", \"answer\": \"True\"},\n",
    "    {\"text\": \"In London, UK, if you happen to die in the House of Parliament, you are entitled to a state funeral.\", \"answer\": \"False\"},\n",
    "    {\"text\": \"It is illegal to pee in the Ocean in Portugal.\", \"answer\": \"True\"},\n",
    "    {\"text\": \"You can lead a cow downstairs but not upstairs.\", \"answer\": \"False\"},\n",
    "    {\"text\": \"Google was originally called 'Backrub'.\", \"answer\": \"True\"},\n",
    "    {\"text\": \"Buzz Aldrin's mother's maiden name was 'Moon'.\", \"answer\": \"True\"},\n",
    "    {\"text\": \"No piece of square dry paper can be folded in half more than 7 times.\", \"answer\": \"False\"},\n",
    "    {\"text\": \"A few ounces of chocolate can kill a small dog.\", \"answer\": \"True\"}\n",
    "]\n",
    "\n",
    "# question model, used to iteratively create question and store in the question bank\n",
    "class Question:\n",
    "    def __init__(self, text, answer):\n",
    "        self.text = text\n",
    "        self.answer = answer\n",
    "\n",
    "question_bank = []\n",
    "\n",
    "for question in question_data:\n",
    "    new_question = Question(question[\"text\"], question[\"answer\"]) # if using otDB, change text to \"question\" and answer to \"correct_answer\"\n",
    "    question_bank.append(new_question)\n",
    "\n",
    "# quiz model, used for asking questions, checking if the answer was correct, and end the quiz\n",
    "class QuizBrain:\n",
    "    def __init__(self, q_list):\n",
    "        self.question_number = 0\n",
    "        self.question_list = q_list\n",
    "        self.score = 0\n",
    "        \n",
    "    def next_question(self):\n",
    "        current_question = self.question_list[self.question_number] # you can index into a variable that wasn't intialised\n",
    "        self.question_number += 1 # prevent repeat question, and prevents Q0 when printing\n",
    "        answer = input(f\"Q{self.question_number}: {current_question.text}. (True/False): \")\n",
    "        self.check_answer(answer, current_question.answer)\n",
    "\n",
    "    def still_has_questions(self):\n",
    "        return self.question_number < len(self.question_list) # off criteria defined dynamically based on list size\n",
    "\n",
    "    def check_answer(self, answer, correct_answer):\n",
    "        if answer.lower() == correct_answer.lower():\n",
    "            self.score += 1\n",
    "            print(\"You got it right!\")\n",
    "        else:\n",
    "            print(\"That's wrong.\")\n",
    "        print(f\"The correct answer was {correct_answer}\\nYour current score is {self.score}/{self.question_number}\\n\")\n",
    "        \n",
    "quiz = QuizBrain(question_bank)\n",
    "\n",
    "while quiz.still_has_questions(): # this is implicitly called/checked after next_question() is called.\n",
    "    quiz.next_question()\n",
    "\n",
    "print(\"You've completed the quiz\")\n",
    "print(f\"Your final score was: {quiz.score}/{quiz.question_number}\")\n"
   ]
  },
  {
   "cell_type": "markdown",
   "id": "80ed3844-6ad3-41a5-b692-2ca98f7b093a",
   "metadata": {},
   "source": [
    "### <b>GUI</b>\n",
    "The GUI, python tuples, and importing modules"
   ]
  },
  {
   "cell_type": "markdown",
   "id": "8dcbd821-51c9-41c7-bd11-435a541e6369",
   "metadata": {},
   "source": [
    "### <b>Turtle and the GUI<b>"
   ]
  },
  {
   "cell_type": "markdown",
   "id": "35024b91-35e1-4158-807c-784f509ab7c9",
   "metadata": {},
   "source": [
    "### <b>Instances, State and Higher Order Functions<b>"
   ]
  },
  {
   "cell_type": "markdown",
   "id": "ac618840-e122-45a1-bfa1-12674a886fc1",
   "metadata": {},
   "source": [
    "### <b>Snake Game Part 1: Animation and Coordinates<b>"
   ]
  },
  {
   "cell_type": "markdown",
   "id": "246fc37d-47aa-432c-bcc6-1116a2da7cdb",
   "metadata": {},
   "source": [
    "### <b>Snake Game Part 2: Inheritance and List Slicing<b>"
   ]
  },
  {
   "cell_type": "markdown",
   "id": "a78b27fb-9355-4868-8e2e-860d9221cd9a",
   "metadata": {},
   "source": [
    "### <b>Pong<b>"
   ]
  },
  {
   "cell_type": "markdown",
   "id": "4a5517a2-d711-4fb8-a4bf-724ddb5ce3b5",
   "metadata": {},
   "source": [
    "### <b>Turtle Crossing Capstone Project<b>"
   ]
  },
  {
   "cell_type": "markdown",
   "id": "cdf6bd32-5980-49ab-8b58-ef3b8d523afd",
   "metadata": {},
   "source": [
    "web foundation starts here"
   ]
  },
  {
   "cell_type": "markdown",
   "id": "aca49edd-a649-4ea0-ac3b-bea78985c7f9",
   "metadata": {},
   "source": [
    "intermediate+ starts here"
   ]
  },
  {
   "cell_type": "markdown",
   "id": "f1abc72e-6f11-4151-b083-89ff60bd1c0a",
   "metadata": {},
   "source": [
    "advanced starts  here"
   ]
  },
  {
   "cell_type": "markdown",
   "id": "9fa65244-65f0-49d5-947a-5f381c2d5324",
   "metadata": {},
   "source": [
    "professional starts here"
   ]
  },
  {
   "cell_type": "code",
   "execution_count": null,
   "id": "ca448798-7962-4025-8d76-2d531f5e23d6",
   "metadata": {},
   "outputs": [],
   "source": []
  }
 ],
 "metadata": {
  "kernelspec": {
   "display_name": "Python 3 (ipykernel)",
   "language": "python",
   "name": "python3"
  },
  "language_info": {
   "codemirror_mode": {
    "name": "ipython",
    "version": 3
   },
   "file_extension": ".py",
   "mimetype": "text/x-python",
   "name": "python",
   "nbconvert_exporter": "python",
   "pygments_lexer": "ipython3",
   "version": "3.10.6"
  }
 },
 "nbformat": 4,
 "nbformat_minor": 5
}
