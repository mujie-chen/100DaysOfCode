{
 "cells": [
  {
   "cell_type": "markdown",
   "id": "0cf3b99c-085e-40f9-a80a-a6a4dfbf4976",
   "metadata": {},
   "source": [
    "### <b>intermediate starts here</b>\n",
    "multi-line editing: select lines using option+shift. command+R to run code. PEP8 recommends each line of code not be more than 120 characters."
   ]
  },
  {
   "cell_type": "markdown",
   "id": "91f09f62-dbeb-434a-9059-186c54510854",
   "metadata": {},
   "source": [
    "<b>Project 15: Coffee Machine Project</b><br>\n",
    "The goal is to build the program for a coffee machine.<br>\n",
    "Program requirements:<br>\n",
    "1. Prompt user by asking “What would you like? (espresso/latte/cappuccino):”.<br>\n",
    "a. Check the user’s input to decide what to do next.<br>\n",
    "b. The prompt should show every time action has completed, e.g. once the drink is\n",
    "dispensed. The prompt should show again to serve the next customer.\n",
    "2. Turn off the Coffee Machine by entering “ off ” to the prompt.<br>\n",
    "a. For maintainers of the coffee machine, they can use “off” as the secret word to turn off\n",
    "the machine. Your code should end execution when this happens.\n",
    "3. Print report.<br>\n",
    "a. When the user enters “report” to the prompt, a report should be generated that shows\n",
    "the current resource values. e.g.<br>\n",
    "Water: 100ml<br>\n",
    "Milk: 50ml<br>\n",
    "Coffee: 76g<br>\n",
    "Money: \\\\$2.5<br>\n",
    "4. Check resources sufficient?<br>\n",
    "a. When the user chooses a drink, the program should check if there are enough\n",
    "resources to make that drink.<br>\n",
    "b. E.g. if Latte requires 200ml water but there is only 100ml left in the machine. It should\n",
    "not continue to make the drink but print: “Sorry there is not enough water.”<br>\n",
    "c. The same should happen if another resource is depleted, e.g. milk or coffee.<br>\n",
    "5. Process coins.<br>\n",
    "a. If there are sufficient resources to make the drink selected, then the program should\n",
    "prompt the user to insert coins.<br>\n",
    "b. Remember that quarters = \\\\$0.25, dimes = \\\\$0.10, nickles = \\\\$0.05, pennies = \\\\$0.01<br>\n",
    "c. Calculate the monetary value of the coins inserted. E.g. 1 quarter, 2 dimes, 1 nickel, 2\n",
    "pennies = 0.25 + 0.1 x 2 + 0.05 + 0.01 x 2 = \\\\$0.52<br>\n",
    "6. Check transaction successful?<br>\n",
    "a. Check that the user has inserted enough money to purchase the drink they selected.\n",
    "E.g Latte cost \\\\$2.50, but they only inserted \\\\$0.52 then after counting the coins the\n",
    "program should say “Sorry that's not enough money. Money refunded.”.<br>\n",
    "b. But if the user has inserted enough money, then the cost of the drink gets added to the\n",
    "machine as the profit and this will be reflected the next time “report” is triggered. E.g.<br>\n",
    "Water: 100ml<br>\n",
    "Milk: 50ml<br>\n",
    "Coffee: 76g<br>\n",
    "Money: \\\\$2.5<br>\n",
    "c. If the user has inserted too much money, the machine should offer change. E.g. “Here is \\\\$2.45 dollars in change.” The change should be rounded to 2 decimal places<br>\n",
    "7. Make Coffee.<br>\n",
    "a. If the transaction is successful and there are enough resources to make the drink the\n",
    "user selected, then the ingredients to make the drink should be deducted from the\n",
    "coffee machine resources. E.g. <br>\n",
    "Report before purchasing latte:<br>\n",
    "Water: 300ml<br>\n",
    "Milk: 200ml<br>\n",
    "Coffee: 100g<br>\n",
    "Money: $0<br>\n",
    "Report after purchasing latte:<br>\n",
    "Water: 100ml<br>\n",
    "Milk: 50ml<br>\n",
    "Coffee: 76g<br>\n",
    "Money: \\\\$2.5<br>\n",
    "b. Once all resources have been deducted, tell the user “Here is your latte. Enjoy!”. If latte was their choice of drink."
   ]
  },
  {
   "cell_type": "code",
   "execution_count": 2,
   "id": "c6f96728-50f1-4b12-9835-a5f7fd68cd93",
   "metadata": {},
   "outputs": [
    {
     "name": "stdin",
     "output_type": "stream",
     "text": [
      "What would you like? (espresso/latte/cappuccino):  latte\n"
     ]
    },
    {
     "name": "stdout",
     "output_type": "stream",
     "text": [
      "A latte costs 2.50\n",
      "Please insert coins.\n"
     ]
    },
    {
     "name": "stdin",
     "output_type": "stream",
     "text": [
      "How many pennies?:  4\n",
      "How many nickels?:  4\n",
      "How many dimes?:  4\n",
      "How many quarters?:  4\n"
     ]
    },
    {
     "name": "stdout",
     "output_type": "stream",
     "text": [
      "$1.64 is insufficient. Refunding money.\n"
     ]
    },
    {
     "name": "stdin",
     "output_type": "stream",
     "text": [
      "What would you like? (espresso/latte/cappuccino):  latte\n"
     ]
    },
    {
     "name": "stdout",
     "output_type": "stream",
     "text": [
      "A latte costs 2.50\n",
      "Please insert coins.\n"
     ]
    },
    {
     "name": "stdin",
     "output_type": "stream",
     "text": [
      "How many pennies?:  8\n",
      "How many nickels?:  8\n",
      "How many dimes?:  8\n",
      "How many quarters?:  8\n"
     ]
    },
    {
     "name": "stdout",
     "output_type": "stream",
     "text": [
      "Here is $0.78 in change: \n",
      "Latte Dispensing... Please wait...\n",
      "Water: 100ml\n",
      "Milk: 50ml\n",
      "Coffee: 76ml\n",
      "Drinks Sold: 1\n",
      "Total Sales = $2.5\n",
      "Here is your Latte. Enjoy! ☕️ \n"
     ]
    },
    {
     "name": "stdin",
     "output_type": "stream",
     "text": [
      "What would you like? (espresso/latte/cappuccino):  cappuccino\n"
     ]
    },
    {
     "name": "stdout",
     "output_type": "stream",
     "text": [
      "Sorry, but there isn't enough water and milk\n"
     ]
    },
    {
     "name": "stdin",
     "output_type": "stream",
     "text": [
      "What would you like? (espresso/latte/cappuccino):  report\n"
     ]
    },
    {
     "name": "stdout",
     "output_type": "stream",
     "text": [
      "Water: 100ml\n",
      "Milk: 50ml\n",
      "Coffee: 76ml\n",
      "Drinks Sold: 1\n",
      "Total Sales = $2.5\n"
     ]
    },
    {
     "name": "stdin",
     "output_type": "stream",
     "text": [
      "What would you like? (espresso/latte/cappuccino):  off\n"
     ]
    }
   ],
   "source": [
    "MENU = {\n",
    "    \"espresso\": {\n",
    "        \"ingredients\": {\n",
    "            \"water\": 50,\n",
    "            \"milk\": 0,\n",
    "            \"coffee\": 18,\n",
    "        },\n",
    "        \"cost\": 1.5,\n",
    "    },\n",
    "    \"latte\": {\n",
    "        \"ingredients\": {\n",
    "            \"water\": 200,\n",
    "            \"milk\": 150,\n",
    "            \"coffee\": 24,\n",
    "        },\n",
    "        \"cost\": 2.5,\n",
    "    },\n",
    "    \"cappuccino\": {\n",
    "        \"ingredients\": {\n",
    "            \"water\": 250,\n",
    "            \"milk\": 100,\n",
    "            \"coffee\": 24,\n",
    "        },\n",
    "        \"cost\": 3.0,\n",
    "    }\n",
    "}\n",
    "\n",
    "drinks_sold = 0\n",
    "sales = 0\n",
    "\n",
    "resources = {\n",
    "    \"water\": 300,\n",
    "    \"milk\": 200,\n",
    "    \"coffee\": 100,\n",
    "}\n",
    "\n",
    "def report():\n",
    "    \"\"\" Provides a report of each of the components, including total sales \"\"\"\n",
    "    print(f\"Water: {resources['water']}ml\\nMilk: {resources['milk']}ml\\nCoffee: {resources['coffee']}ml\\nDrinks Sold: {drinks_sold}\\nTotal Sales = ${sales}\")\n",
    "#or use option+shift to select multiple lines for multi-line editing\n",
    "\n",
    "def check_resources(drink_choice):\n",
    "    \"\"\" Checks if resources are available to make specified drink, returning the lacking component and True if sufficient \"\"\"\n",
    "    insufficient_components = []\n",
    "\n",
    "    for resource in resources:\n",
    "        if resources[resource] < MENU[drink_choice]['ingredients'][resource]:\n",
    "            insufficient_components.append(resource)\n",
    "\n",
    "    is_sufficient = len(insufficient_components) == 0\n",
    "    return is_sufficient, insufficient_components\n",
    "\n",
    "def check_money(coin1, coin2, coin3, coin4, drink_choice):\n",
    "    \"\"\" Totals the values of each coin, as well as if the money provided is greater than the cost \"\"\"\n",
    "    total = coin1 * 0.01 + coin2 * 0.05 + coin3 * 0.1 + coin4 * 0.25\n",
    "    return total, total >= MENU[drink_choice]['cost']\n",
    "\n",
    "def make_coffee(drink_choice):\n",
    "    \"\"\" Dispenses coffee, and updates the resources to reflect the new balance \"\"\"\n",
    "    #dispense_coffee()\n",
    "    for ingredient in MENU[drink_choice]['ingredients']: #deduct resources\n",
    "        resources[ingredient] -= MENU[drink_choice]['ingredients'][ingredient]\n",
    "    report()\n",
    "\n",
    "machine_status = 'on'\n",
    "\n",
    "while machine_status == 'on':\n",
    "    coffee_selected = input(\"What would you like? (espresso/latte/cappuccino): \").lower()\n",
    "\n",
    "    if coffee_selected == 'off':\n",
    "        machine_status = 'off'\n",
    "\n",
    "    elif coffee_selected == 'report':\n",
    "        report()\n",
    "\n",
    "    else:\n",
    "        check_resources(coffee_selected)\n",
    "        if check_resources(coffee_selected)[0]:\n",
    "            print(f\"A {coffee_selected} costs {MENU[coffee_selected]['cost']:.2f}\")\n",
    "\n",
    "            print(\"Please insert coins.\")\n",
    "\n",
    "            pennies = float(input(\"How many pennies?: \"))\n",
    "            nickels = float(input(\"How many nickels?: \"))\n",
    "            dimes = float(input(\"How many dimes?: \"))\n",
    "            quarters = float(input(\"How many quarters?: \"))\n",
    "\n",
    "            money_provided = check_money(pennies, nickels, dimes, quarters, coffee_selected)[0]\n",
    "\n",
    "            if check_money(pennies, nickels, dimes, quarters, coffee_selected)[1]:\n",
    "                if money_provided > MENU[coffee_selected]['cost']:\n",
    "                    change = money_provided - MENU[coffee_selected]['cost']\n",
    "                    sales += MENU[coffee_selected]['cost']\n",
    "                    drinks_sold += 1\n",
    "                    print(f\"Here is ${change:.2f} in change: \")\n",
    "\n",
    "                print(f\"{coffee_selected.capitalize()} Dispensing... Please wait...\")\n",
    "\n",
    "                make_coffee(coffee_selected)\n",
    "\n",
    "                print(f\"Here is your {coffee_selected.capitalize()}. Enjoy! ☕️ \")\n",
    "\n",
    "            else:\n",
    "                print(f\"${money_provided:.2f} is insufficient. Refunding money.\")\n",
    "        else:\n",
    "            insufficient_resources =  check_resources(coffee_selected)[1]\n",
    "            print(f\"Sorry, but there isn't enough {' and '.join(insufficient_resources)}\")\n"
   ]
  },
  {
   "cell_type": "markdown",
   "id": "5c327eea-6c92-47c1-b606-3f9168ceffb3",
   "metadata": {},
   "source": [
    "### <b>Object Oriented Programming<b>\n",
    "Procedural programming is one of the earliest paradigms of programming (fortran/cobol), where codes are structured into sequences of instructions, relying on predefined functions with variables, loops and conditional to control flow. however, this gets very cluttered with complex projects. this is preferred for simple programs.<br>\n",
    "On the other hand, OOP allows the separation of a huge project into constituent pieces, where each piece can be assigned independently to someone to code for á la a restaurant manager hiring a chef, waiter and cleaner. OOP is at a higher level but still uses procedures, which it abstracts away under method calls.<br>\n",
    "#### Terminology\n",
    "A class (e.g. waiter) contains blueprints for its objects, which include attributes (e.g. has: plates, tables [4, 5, 6]) and methods (e.g. does: take_order, take_payment)<br>\n",
    "An object is an instance of a class e.g. waiter.take_order; waiter.serve_drinks; waiter.take_payment"
   ]
  },
  {
   "cell_type": "code",
   "execution_count": 1,
   "id": "868291fe-24f2-41c8-b71a-767e76efe8f3",
   "metadata": {},
   "outputs": [
    {
     "name": "stdout",
     "output_type": "stream",
     "text": [
      "<turtle.Turtle object at 0x107d84040>\n",
      "300\n"
     ]
    },
    {
     "name": "stderr",
     "output_type": "stream",
     "text": [
      "2025-03-30 19:19:11.955 Python[74259:4148365] +[IMKClient subclass]: chose IMKClient_Modern\n",
      "2025-03-30 19:19:11.955 Python[74259:4148365] +[IMKInputSession subclass]: chose IMKInputSession_Modern\n"
     ]
    }
   ],
   "source": [
    "from turtle import Turtle, Screen #classes use PascalCase by convention\n",
    "\n",
    "timmy = Turtle() #creating an object \"timmy\" and setting it equal to the Turtle class blueprint\n",
    "#classes will have an icon \"c\" in interpreters\n",
    "\n",
    "#modifying attributes\n",
    "timmy.shape(\"turtle\") #changes the shape of timmy; Python:Turtle doc\n",
    "timmy.color(\"coral\")\n",
    "\n",
    "#modifying methods\n",
    "timmy.forward(100) #move forward by 100 paces\n",
    "\n",
    "print(timmy) #shows memory location\n",
    "\n",
    "my_screen = Screen() #this object is the window that the turtle will appear in\n",
    "\n",
    "print(my_screen.canvheight) #canvheight is an attribute of the my_screen object; accessed by a period\n",
    "\n",
    "my_screen.exitonclick() #exitonclick is a method of the my_screen object: window will stay until clicked\n"
   ]
  },
  {
   "cell_type": "markdown",
   "id": "ddad7c9d-c165-4fea-9bde-1ada3b0ab86d",
   "metadata": {},
   "source": [
    "#### Pypi.org\n",
    "[Pypi](https://www.pypi.org) is a directory for packages (a directory of modules + an __init__.py file) and libraries (a collection of packages and modules). it includes the documentation for all the functionality included in the package. external packages must be installed if they are not part of the standard Python library. from the terminal e.g. pip install prettytable<br>\n",
    "> pip (PIP installs packages) is a recursive acronym which follows a common programming joke where recursive acroynms define themselves e.g. GNU = GNU's not unix"
   ]
  },
  {
   "cell_type": "code",
   "execution_count": 14,
   "id": "39f1eb12-18ad-43dc-9568-126edc70eb99",
   "metadata": {},
   "outputs": [
    {
     "name": "stdout",
     "output_type": "stream",
     "text": [
      "{'base_align_value': 'c', 'Name': 'r', 'Age': 'r', 'Country': 'r'}\n",
      "+---------+-----+---------+\n",
      "|    Name | Age | Country |\n",
      "+---------+-----+---------+\n",
      "|   Alice |  25 |     USA |\n",
      "|     Bob |  30 |      UK |\n",
      "| Charlie |  28 |  Canada |\n",
      "+---------+-----+---------+\n"
     ]
    }
   ],
   "source": [
    "#!{sys.executable} -m pip install prettytable\n",
    "\n",
    "from prettytable import PrettyTable\n",
    "\n",
    "table = PrettyTable([\"Name\", \"Age\", \"Country\"])\n",
    "table.add_row([\"Alice\", 25, \"USA\"]) #in an IDE it shows the arguments that this method can take\n",
    "table.add_row([\"Bob\", 30, \"UK\"])\n",
    "table.add_row([\"Charlie\", 28, \"Canada\"])\n",
    "\n",
    "table.align = 'r' #changing an attribute; align has 3 options according to the prettytable documentation\n",
    "\n",
    "print(table.align)\n",
    "\n",
    "print(table)\n"
   ]
  },
  {
   "cell_type": "markdown",
   "id": "f761fe43-27b9-4073-99a0-a4778c058a3e",
   "metadata": {},
   "source": [
    "<b>Project 16: Coffee Machine Program Revisited with OOP<b><br>\n",
    "1. Print Report\n",
    "2. Check resources sufficient?\n",
    "3. Process coins\n",
    "4. Check transaction successful?\n",
    "5. Make coffee\n"
   ]
  },
  {
   "cell_type": "code",
   "execution_count": 27,
   "id": "13b97c7b-fdc0-4827-89a3-742d42c458d2",
   "metadata": {},
   "outputs": [
    {
     "name": "stdout",
     "output_type": "stream",
     "text": [
      "Water: 300ml\n",
      "Milk: 200ml\n",
      "Coffee: 100g\n",
      "Money: $0\n"
     ]
    },
    {
     "name": "stdin",
     "output_type": "stream",
     "text": [
      "What would you like to drink? latte/espresso/cappuccino/:  latte\n"
     ]
    },
    {
     "name": "stdout",
     "output_type": "stream",
     "text": [
      "Please insert coins.\n"
     ]
    },
    {
     "name": "stdin",
     "output_type": "stream",
     "text": [
      "How many quarters?:  10\n",
      "How many dimes?:  10\n",
      "How many nickles?:  10\n",
      "How many pennies?:  10\n"
     ]
    },
    {
     "name": "stdout",
     "output_type": "stream",
     "text": [
      "Here is $1.6 in change.\n",
      "Here is your latte ☕️. Enjoy!\n"
     ]
    },
    {
     "name": "stdin",
     "output_type": "stream",
     "text": [
      "What would you like to drink? latte/espresso/cappuccino/:  cappuccino\n"
     ]
    },
    {
     "name": "stdout",
     "output_type": "stream",
     "text": [
      "Sorry there is not enough water.\n"
     ]
    },
    {
     "name": "stdin",
     "output_type": "stream",
     "text": [
      "What would you like to drink? latte/espresso/cappuccino/:  latte\n"
     ]
    },
    {
     "name": "stdout",
     "output_type": "stream",
     "text": [
      "Sorry there is not enough water.\n",
      "Sorry there is not enough milk.\n"
     ]
    },
    {
     "name": "stdin",
     "output_type": "stream",
     "text": [
      "What would you like to drink? latte/espresso/cappuccino/:  off\n"
     ]
    }
   ],
   "source": [
    "from coffeemaker import CoffeeMaker, Menu, MenuItem, MoneyMachine #i turned the provided modules into a package\n",
    "\n",
    "coffee_maker = CoffeeMaker()\n",
    "money_machine = MoneyMachine()\n",
    "menu = Menu()\n",
    "\n",
    "is_on = True\n",
    "\n",
    "coffee_maker.report()\n",
    "money_machine.report()\n",
    "\n",
    "while is_on:\n",
    "    options = menu.get_items()\n",
    "    choice = input(f\"What would you like to drink? {options}: \").lower()\n",
    "\n",
    "    if choice == 'off':\n",
    "        is_on = False\n",
    "    elif choice == 'report':\n",
    "        coffee_maker.report()\n",
    "        money_machine.report()\n",
    "    else:\n",
    "        drink = menu.find_drink(choice) #checks and says item is not available if doesn't exit\n",
    "        if coffee_maker.is_resource_sufficient(drink) and money_machine.make_payment(drink.cost): #checks ingredients for drink, returning T/F\n",
    "                                            #collects coins, calls a nested function to check if total is enough, and returns T/F\n",
    "                coffee_maker.make_coffee(drink)\n"
   ]
  },
  {
   "cell_type": "markdown",
   "id": "d5855edf-c477-4053-8f21-6cfe79893067",
   "metadata": {},
   "source": [
    "#### <b>Creating Classes<b>\n",
    "Creating a blueprint for an object, containing all the possible attributes and methods for that object. Using the python constructor (__init__(self)), an instance method that is called automatically when the object is created, to initialise values for the object's attributes. <br>\n",
    "PascalCase is the convention for class names, as opposed to other contexts like camelCase or snake_case (the other most common case in Python)."
   ]
  },
  {
   "cell_type": "code",
   "execution_count": 12,
   "id": "0e6c1361-86b6-4b4e-b31e-882d4453ef2a",
   "metadata": {},
   "outputs": [
    {
     "name": "stdout",
     "output_type": "stream",
     "text": [
      "Angela\n",
      "1\n",
      "0\n",
      "0\n",
      "1\n"
     ]
    }
   ],
   "source": [
    "class User:\n",
    "    pass # pass avoids 'indent expected' errors in IDEs for having no content after a semicolon\n",
    "\n",
    "user_1 = User() # creating a new object from the class\n",
    "user_1.id = \"001\" \n",
    "user_1.username = \"Angela\" # manually initialising attributes of the object\n",
    "\n",
    "print(user_1.username)\n",
    "\n",
    "class Car:\n",
    "    def __init__(self, seats): # takes seat number as an argument during initialisation\n",
    "        self.seats = seats\n",
    "    def enter_race_mode(self): # defining a method modifying itself\n",
    "        self.seats = 2\n",
    "\n",
    "my_car = Car(5) # abstracts away from having to use my_car.seats = 5\n",
    "my_car.enter_race_mode()\n",
    "\n",
    "class User: # redefining here means the previous class is overwritten; not recommended\n",
    "    def __init__(self, user_id, username):\n",
    "        self.id = user_id # attribute name same as argument name, though not necessary\n",
    "        self.username = username\n",
    "        self.followers = 0 # can initialise a default value or a counter, not requiring input as an argument\n",
    "        self.following = 0\n",
    "\n",
    "    def follow(self, user):\n",
    "        self.following += 1 # add to self counter\n",
    "        user.followers += 1 # add to the followed person's counter\n",
    "                \n",
    "user_1 = User(\"001\", \"Angela\" )# but unable to take less than 2 arguments when initialising\n",
    "user_2 = User(\"002\", \"Tom\") \n",
    "\n",
    "user_1.follow(user_2) # Angela is now following Tom\n",
    "print(user_1.following)\n",
    "print(user_1.followers)\n",
    "print(user_2.following)\n",
    "print(user_2.followers)\n"
   ]
  },
  {
   "cell_type": "markdown",
   "id": "5d68e121-62f4-46c2-9fa4-674b77396c68",
   "metadata": {},
   "source": [
    "### <b>The Quiz Project<b>\n",
    "The quiz asks true/false questions from a question bank, takes answers and tells the player if they got it right. It keeps track of the scores, terminates when all the questions have been asked, and tells the player his final score.<br>\n",
    "To generate more question banks, [OpenTriviaDB](https://opentdb.com/) provides a database of questions that can be used to plug and play, filtered by category, difficulty, and response type. It generates an API url of the questions in Javascript format, equivalent to the Python dictionary of question_data.<br>\n",
    "To transform the question bank to be usable, use \"format code\" to clean up data. question_data contains a response_code, and a list of \"results\", which is a collection of dictionaries containing the category, type, difficulty, and correct and incorrect answers. the enclosing dictionary can be removed, along with response_code, to leave a list of dictionaries. Reformat again, check the key:value pairs and make sure question_bank generation refers to the correct keys.<br><br>\n",
    "The modularity of OOP enables main.py (just question_bank creation and while True loop) to continue working regardless of the data provided, so that someone else can focus on writing the quizzes (as opposed to procedural code)."
   ]
  },
  {
   "cell_type": "code",
   "execution_count": 33,
   "id": "8b14b378-2838-4c07-bb06-9bbf5958f824",
   "metadata": {},
   "outputs": [
    {
     "name": "stdin",
     "output_type": "stream",
     "text": [
      "Q1: A slug's blood is green.. (True/False):  True\n"
     ]
    },
    {
     "name": "stdout",
     "output_type": "stream",
     "text": [
      "You got it right!\n",
      "The correct answer was True\n",
      "Your current score is 1/1\n",
      "\n"
     ]
    },
    {
     "name": "stdin",
     "output_type": "stream",
     "text": [
      "Q2: The loudest animal is the African Elephant.. (True/False):  False\n"
     ]
    },
    {
     "name": "stdout",
     "output_type": "stream",
     "text": [
      "You got it right!\n",
      "The correct answer was False\n",
      "Your current score is 2/2\n",
      "\n"
     ]
    },
    {
     "name": "stdin",
     "output_type": "stream",
     "text": [
      "Q3: Approximately one-quarter of human bones are in the feet.. (True/False):  True\n"
     ]
    },
    {
     "name": "stdout",
     "output_type": "stream",
     "text": [
      "You got it right!\n",
      "The correct answer was True\n",
      "Your current score is 3/3\n",
      "\n"
     ]
    },
    {
     "name": "stdin",
     "output_type": "stream",
     "text": [
      "Q4: The total surface area of a human lungs is the size of a football pitch.. (True/False):  True\n"
     ]
    },
    {
     "name": "stdout",
     "output_type": "stream",
     "text": [
      "You got it right!\n",
      "The correct answer was True\n",
      "Your current score is 4/4\n",
      "\n"
     ]
    },
    {
     "name": "stdin",
     "output_type": "stream",
     "text": [
      "Q5: In West Virginia, USA, if you accidentally hit an animal with your car, you are free to take it home to eat.. (True/False):  True\n"
     ]
    },
    {
     "name": "stdout",
     "output_type": "stream",
     "text": [
      "You got it right!\n",
      "The correct answer was True\n",
      "Your current score is 5/5\n",
      "\n"
     ]
    },
    {
     "name": "stdin",
     "output_type": "stream",
     "text": [
      "Q6: In London, UK, if you happen to die in the House of Parliament, you are entitled to a state funeral.. (True/False):  True\n"
     ]
    },
    {
     "name": "stdout",
     "output_type": "stream",
     "text": [
      "That's wrong.\n",
      "The correct answer was False\n",
      "Your current score is 5/6\n",
      "\n"
     ]
    },
    {
     "name": "stdin",
     "output_type": "stream",
     "text": [
      "Q7: It is illegal to pee in the Ocean in Portugal.. (True/False):  True\n"
     ]
    },
    {
     "name": "stdout",
     "output_type": "stream",
     "text": [
      "You got it right!\n",
      "The correct answer was True\n",
      "Your current score is 6/7\n",
      "\n"
     ]
    },
    {
     "name": "stdin",
     "output_type": "stream",
     "text": [
      "Q8: You can lead a cow downstairs but not upstairs.. (True/False):  True\n"
     ]
    },
    {
     "name": "stdout",
     "output_type": "stream",
     "text": [
      "That's wrong.\n",
      "The correct answer was False\n",
      "Your current score is 6/8\n",
      "\n"
     ]
    },
    {
     "name": "stdin",
     "output_type": "stream",
     "text": [
      "Q9: Google was originally called 'Backrub'.. (True/False):  True\n"
     ]
    },
    {
     "name": "stdout",
     "output_type": "stream",
     "text": [
      "You got it right!\n",
      "The correct answer was True\n",
      "Your current score is 7/9\n",
      "\n"
     ]
    },
    {
     "name": "stdin",
     "output_type": "stream",
     "text": [
      "Q10: Buzz Aldrin's mother's maiden name was 'Moon'.. (True/False):  True\n"
     ]
    },
    {
     "name": "stdout",
     "output_type": "stream",
     "text": [
      "You got it right!\n",
      "The correct answer was True\n",
      "Your current score is 8/10\n",
      "\n"
     ]
    },
    {
     "name": "stdin",
     "output_type": "stream",
     "text": [
      "Q11: No piece of square dry paper can be folded in half more than 7 times.. (True/False):  True\n"
     ]
    },
    {
     "name": "stdout",
     "output_type": "stream",
     "text": [
      "That's wrong.\n",
      "The correct answer was False\n",
      "Your current score is 8/11\n",
      "\n"
     ]
    },
    {
     "name": "stdin",
     "output_type": "stream",
     "text": [
      "Q12: A few ounces of chocolate can kill a small dog.. (True/False):  True\n"
     ]
    },
    {
     "name": "stdout",
     "output_type": "stream",
     "text": [
      "You got it right!\n",
      "The correct answer was True\n",
      "Your current score is 9/12\n",
      "\n",
      "You've completed the quiz\n",
      "Your final score was: 9/12\n"
     ]
    }
   ],
   "source": [
    "question_data = [\n",
    "    {\"text\": \"A slug's blood is green.\", \"answer\": \"True\"},\n",
    "    {\"text\": \"The loudest animal is the African Elephant.\", \"answer\": \"False\"},\n",
    "    {\"text\": \"Approximately one-quarter of human bones are in the feet.\", \"answer\": \"True\"},\n",
    "    {\"text\": \"The total surface area of a human lungs is the size of a football pitch.\", \"answer\": \"True\"},\n",
    "    {\"text\": \"In West Virginia, USA, if you accidentally hit an animal with your car, you are free to take it home to eat.\", \"answer\": \"True\"},\n",
    "    {\"text\": \"In London, UK, if you happen to die in the House of Parliament, you are entitled to a state funeral.\", \"answer\": \"False\"},\n",
    "    {\"text\": \"It is illegal to pee in the Ocean in Portugal.\", \"answer\": \"True\"},\n",
    "    {\"text\": \"You can lead a cow downstairs but not upstairs.\", \"answer\": \"False\"},\n",
    "    {\"text\": \"Google was originally called 'Backrub'.\", \"answer\": \"True\"},\n",
    "    {\"text\": \"Buzz Aldrin's mother's maiden name was 'Moon'.\", \"answer\": \"True\"},\n",
    "    {\"text\": \"No piece of square dry paper can be folded in half more than 7 times.\", \"answer\": \"False\"},\n",
    "    {\"text\": \"A few ounces of chocolate can kill a small dog.\", \"answer\": \"True\"}\n",
    "]\n",
    "\n",
    "# question model, used to iteratively create question and store in the question bank\n",
    "class Question:\n",
    "    def __init__(self, text, answer):\n",
    "        self.text = text\n",
    "        self.answer = answer\n",
    "\n",
    "question_bank = []\n",
    "\n",
    "for question in question_data:\n",
    "    new_question = Question(question[\"text\"], question[\"answer\"]) # if using otDB, change text to \"question\" and answer to \"correct_answer\"\n",
    "    question_bank.append(new_question)\n",
    "\n",
    "# quiz model, used for asking questions, checking if the answer was correct, and end the quiz\n",
    "class QuizBrain:\n",
    "    def __init__(self, q_list):\n",
    "        self.question_number = 0\n",
    "        self.question_list = q_list\n",
    "        self.score = 0\n",
    "        \n",
    "    def next_question(self):\n",
    "        current_question = self.question_list[self.question_number] # you can index into a variable that wasn't intialised\n",
    "        self.question_number += 1 # prevent repeat question, and prevents Q0 when printing\n",
    "        answer = input(f\"Q{self.question_number}: {current_question.text}. (True/False): \")\n",
    "        self.check_answer(answer, current_question.answer)\n",
    "\n",
    "    def still_has_questions(self):\n",
    "        return self.question_number < len(self.question_list) # off criteria defined dynamically based on list size\n",
    "\n",
    "    def check_answer(self, answer, correct_answer):\n",
    "        if answer.lower() == correct_answer.lower():\n",
    "            self.score += 1\n",
    "            print(\"You got it right!\")\n",
    "        else:\n",
    "            print(\"That's wrong.\")\n",
    "        print(f\"The correct answer was {correct_answer}\\nYour current score is {self.score}/{self.question_number}\\n\")\n",
    "        \n",
    "quiz = QuizBrain(question_bank)\n",
    "\n",
    "while quiz.still_has_questions(): # this is implicitly called/checked after next_question() is called.\n",
    "    quiz.next_question()\n",
    "\n",
    "print(\"You've completed the quiz\")\n",
    "print(f\"Your final score was: {quiz.score}/{quiz.question_number}\")\n"
   ]
  },
  {
   "cell_type": "markdown",
   "id": "80ed3844-6ad3-41a5-b692-2ca98f7b093a",
   "metadata": {},
   "source": [
    "### <b>GUI</b>\n",
    "The GUI, python tuples, and importing modules (specifically [Turtle Graphics](https://docs.python.org/3/library/turtle.html)). Turtle supports symbolic color names recognised by tkinter ([tkinterface](https://docs.python.org/3/library/tkinter.html)) through the pencolor function (index available [here](https://cs111.wellesley.edu/reference/colors)). Import specific items in a module if they see frequent use, import the whole module if you are only using it once or twice (accessing the module items is longer this way). RGB is an example of a tuple, where the values of red, blue and green (for a given colour) are immutable e.g. Red = (255, 0, 0). The individual values in a tuple cannot be edited unless it is first converted into a list (list(my_tuple))."
   ]
  },
  {
   "cell_type": "code",
   "execution_count": 1,
   "id": "c2f34341-31a5-4fb6-8969-22bc98b40224",
   "metadata": {},
   "outputs": [
    {
     "name": "stdout",
     "output_type": "stream",
     "text": [
      "Requirement already satisfied: heroes in /Users/mujiechen/miniconda3/lib/python3.12/site-packages (1.0.2)\n",
      "Ultra\n"
     ]
    }
   ],
   "source": [
    "from turtle import Turtle as t, Screen as s # aliasing items using 'as'\n",
    "import random\n",
    "# import * means all items within the module\n",
    "# unable to import the items within the module directly without referencing the module itself\n",
    "\n",
    "!pip install heroes\n",
    "import heroes\n",
    "# non-standard Python library items must first be installed, which can be in the local sandbox or the global Python library\n",
    "print(heroes.gen())\n",
    "\n",
    "tim = t()\n",
    "\n",
    "# timmy characteristics\n",
    "tim.shape(\"turtle\")\n",
    "tim.color(\"chartreuse4\") # uses tk-recognised symbolic color names\n",
    "\n",
    "# timmy draws a square, using navigation\n",
    "for _ in range(4):\n",
    "    tim.forward(100)\n",
    "    tim.left(90)\n",
    "\n",
    "# timmy draws a dotted line, using penup and pendown\n",
    "for _ in range(10):\n",
    "    tim.forward(5)\n",
    "    tim.penup()\n",
    "    tim.forward(5)\n",
    "    tim.pendown()\n",
    "\n",
    "# timmy draws (in sequence) a triangle, square, pentagon, hexagon, heptagon, octagon, nonagon, and decagon\n",
    "tim.home()\n",
    "\n",
    "sides = 3\n",
    "\n",
    "colours = [\"CornflowerBlue\", \"DarkOrchid\", \"IndianRed\", \"DeepSkyBlue\", \"LightSeaGreen\", \"wheat\", \"SlateGray\", \"SeaGreen\"]\n",
    "\n",
    "for sided_shape in range(3, 11): # stop number is excluded\n",
    "    for side in range(sides): # or def this as a draw_shape(sides) function\n",
    "        tim.forward(100)\n",
    "        tim.right(360/sides)\n",
    "    \n",
    "    sides += 1\n",
    "    tim.color(random.choice(colours))\n",
    "\n",
    "# timmy draws a \"Random\" Walk; with thicker lines; changing colours each time using an RGB tuple; and walks faster\n",
    "# used for modelling a molecule's path, fluctuations in a stock, financial status of a gambler etc.\n",
    "import turtle\n",
    "tim.home()\n",
    "\n",
    "tim.pensize(15)\n",
    "tim.speed(\"fastest\")\n",
    "\n",
    "turtle.colormode(255) # change turtle to be able to recognise rbg tuples\n",
    "\n",
    "def random_color(): # generate random colours, not from a list, but by randomising RGB values and combining a RGB tuple\n",
    "    r = random.randint(0, 255)\n",
    "    g = random.randint(0, 255)\n",
    "    b = random.randint(0, 255)\n",
    "    color = (r, g, b) # tuples are immutable.\n",
    "    return color\n",
    "    \n",
    "directions = [0, 90, 180, 270] # NSEW\n",
    "\n",
    "for _ in range(200):\n",
    "    tim.color(random_color())\n",
    "    tim.forward(30)\n",
    "    tim.setheading(random.choice(directions))\n",
    "\n",
    "# timmy draws a spirograph\n",
    "tim.home()\n",
    "\n",
    "tim.pensize(2)\n",
    "\n",
    "for _ in range(36): # notice having to define 2 \"magic numbers\"\n",
    "    tim.color(random_color())\n",
    "    tim.circle(100)\n",
    "    tim.setheading(tim.heading() + 10)\n",
    "\n",
    "# compare the above to the below, where the argument makes the function modifiable\n",
    "\n",
    "def draw_spirograph(size_of_gap): # size_of_gap is factored out and can be specified\n",
    "    for _ in range(int(360 / size_of_gap)): # no need to put in \"magic numbers\", rather it is updated dynamically\n",
    "        tim.color(random_color())\n",
    "        tim.circle(100)\n",
    "        tim.setheading(tim.heading() + size_of_gap) # same here\n",
    "\n",
    "draw_spirograph(5)\n",
    "\n",
    "screen = s()\n",
    "screen.exitonclick()\n"
   ]
  },
  {
   "cell_type": "markdown",
   "id": "668195a9-4da0-40db-a558-b86e28da58e5",
   "metadata": {},
   "source": [
    "### <b>Damien Hirst: Antipyrylazo III<b>\n",
    "A [contemporary spot painting](https://www.phillips.com/detail/damien-hirst/UK010120/16) that was sold for 1.275 million pounds, purported by programmers to be easily replicable by randomisation."
   ]
  },
  {
   "cell_type": "code",
   "execution_count": 1,
   "id": "f9bb4a5f-3a5d-4130-9523-0eb6f478601e",
   "metadata": {},
   "outputs": [
    {
     "name": "stdout",
     "output_type": "stream",
     "text": [
      "Requirement already satisfied: colorgram.py in /Users/mujiechen/miniconda3/lib/python3.12/site-packages (1.2.0)\n",
      "Requirement already satisfied: pillow>=3.3.1 in /Users/mujiechen/miniconda3/lib/python3.12/site-packages (from colorgram.py) (11.0.0)\n"
     ]
    }
   ],
   "source": [
    "!pip install colorgram.py # python module that extracts (as tuples) the most common colours used in an image\n",
    "import colorgram\n",
    "\n",
    "image_path = r\"/Users/mujiechen/Library/CloudStorage/Dropbox/100 Days of Code/Static/hirstpaintingproject.jpeg\"\n",
    "\n",
    "colors = colorgram.extract(image_path, 30) # colorgram extracts the 30 most common colours\n",
    "\n",
    "# rgb_colors = []\n",
    "# \n",
    "# for color in colors:\n",
    "#     r = color.rgb.r\n",
    "#     g = color.rgb.g\n",
    "#     b = color.rgb.b\n",
    "#     new_color = (r, g, b) # turtle recognisable tuple format\n",
    "#     rgb_colors.append(new_color) # add tuples to an iterable list\n",
    "# \n",
    "# print(rgb_colors)\n",
    "\n",
    "# manually review and delete colours close to white (near 255)\n",
    "color_list = [(207, 157, 113), (126, 174, 194), (133, 181, 154), (33, 116, 152), (204, 136, 151), (228, 202, 119), (237, 220, 223), (204, 218, 225), (141, 85, 58), (157, 61, 80), (207, 77, 95), (44, 129, 89), (221, 81, 61), (233, 164, 175), (67, 161, 117), (176, 153, 56), (231, 172, 162), (165, 206, 186), (40, 160, 188), (160, 28, 45), (14, 47, 75), (16, 95, 64), (73, 39, 29), (161, 204, 214), (148, 33, 26), (19, 66, 47), (72, 32, 46), (6, 93, 109)]\n",
    "\n",
    "# creating the hirst painting using turtle\n",
    "from turtle import Turtle as t, Screen as s\n",
    "import turtle\n",
    "import random\n",
    "\n",
    "hirst = t()\n",
    "\n",
    "turtle.colormode(255)\n",
    "\n",
    "hirst.speed('fastest')\n",
    "hirst.penup()\n",
    "hirst.hideturtle()\n",
    "\n",
    "hirst.setheading(225) # get hirst to starting point\n",
    "hirst.forward(300)\n",
    "hirst.setheading(0)\n",
    "\n",
    "number_of_dots = 100\n",
    "\n",
    "for dot_count in range(1, number_of_dots + 1):\n",
    "    hirst.dot(20, random.choice(color_list))\n",
    "    hirst.forward(50)\n",
    "\n",
    "    if dot_count % 10 == 0: # move to a new row and reposition to draw again\n",
    "        hirst.setheading(90)\n",
    "        hirst.forward(50)\n",
    "        hirst.setheading(180)\n",
    "        hirst.forward(500)\n",
    "        hirst.setheading(0)\n",
    "\n",
    "screen = s()\n",
    "screen.exitonclick()\n"
   ]
  },
  {
   "cell_type": "markdown",
   "id": "35024b91-35e1-4158-807c-784f509ab7c9",
   "metadata": {},
   "source": [
    "### <b>Event Listeners, State and Higher Order Functions<b>\n",
    "Screen events are events that happen on the GUI, specifically keystrokes, or clicks (on screen coordinates). Event listeners can capture and respond to user actions. "
   ]
  },
  {
   "cell_type": "code",
   "execution_count": 5,
   "id": "a29ac1d2-3c74-4d14-b8b1-bd61480634ce",
   "metadata": {},
   "outputs": [],
   "source": [
    "from turtle import Turtle, Screen\n",
    "\n",
    "tim = Turtle()\n",
    "screen = Screen()\n",
    "\n",
    "def move_forwards():\n",
    "    tim.forward(10)\n",
    "\n",
    "# event listener for the space keystroke, moving tim forward 10 spaces every time it is clicked\n",
    "screen.listen()\n",
    "screen.onkey(key=\"space\", fun=move_forwards) # keyword arguments are position-agnostic but key (key/fun) must be specified\n",
    "# when passing a function as an argument/input, omit the parentheses;\n",
    "# parentheses trigger the function there and then; the onkey method does the function only when the triggered\n",
    "screen.exitonclick()\n",
    "\n",
    "# Higher Order Functions\n",
    "def add(n1, n2):\n",
    "    return n1 + n2\n",
    "\n",
    "def multiply(n1, n2):\n",
    "    return n1 * n2\n",
    "\n",
    "def calculator(n1, n2, func):\n",
    "    return func(n1, n2) # a Higher Order Function that can work with other inner functions\n",
    "\n",
    "result = calculator(2, 5, add)\n",
    "result2 = calculator(3, 5, multiply)\n"
   ]
  },
  {
   "cell_type": "markdown",
   "id": "7d50ca65-11f3-4287-8df0-07c40b2cb34b",
   "metadata": {},
   "source": [
    "#### <b>Etch a Sketch</b>\n",
    "A turtle app that can be controlled using WASD (direction) and be cleared and reset using the C key"
   ]
  },
  {
   "cell_type": "code",
   "execution_count": 6,
   "id": "f431e75f-eb91-43ca-85a9-cf4c2fe84086",
   "metadata": {},
   "outputs": [],
   "source": [
    "from turtle import Turtle as t, Screen as s\n",
    "\n",
    "etch = t()\n",
    "screen = s()\n",
    "\n",
    "def move_forward():\n",
    "    etch.forward(10)\n",
    "\n",
    "def move_backward():\n",
    "    etch.backward(10)\n",
    "\n",
    "def turn_left():\n",
    "    new_heading = etch.heading() + 10 # or use the left(angle) or lt(angle) method\n",
    "    etch.setheading(new_heading)\n",
    "\n",
    "def turn_right():\n",
    "    new_heading = etch.heading() - 10\n",
    "    etch.setheading(new_heading)\n",
    "\n",
    "def clear():\n",
    "    etch.clear()\n",
    "    etch.penup() # prevents etch from drawing a line back to origin\n",
    "    etch.home()\n",
    "    etch.pendown()\n",
    "\n",
    "screen.listen()\n",
    "screen.onkey(move_forward, 'w')\n",
    "screen.onkey(move_backward, 's')\n",
    "screen.onkey(turn_left, 'a')\n",
    "screen.onkey(turn_right, 'd')\n",
    "screen.onkey(clear, 'c')\n",
    "\n",
    "screen.exitonclick()\n"
   ]
  },
  {
   "cell_type": "markdown",
   "id": "99cfe0cc-45be-4849-b5e4-ef82f58a2668",
   "metadata": {},
   "source": [
    "#### <b>Turtle Racing Game<b>\n",
    "Generate multiple turtles with different speeds, race them at the same time, and bet on the winner.<br>\n",
    "Multiple instances of the same object can be created concurrently using the same class blueprint, each with different object states."
   ]
  },
  {
   "cell_type": "code",
   "execution_count": 2,
   "id": "73e8249f-fbc6-478e-8cbb-16e913caaf00",
   "metadata": {},
   "outputs": [
    {
     "name": "stderr",
     "output_type": "stream",
     "text": [
      "2025-04-15 21:16:43.246 python[81464:15523350] +[IMKClient subclass]: chose IMKClient_Modern\n",
      "2025-04-15 21:16:43.246 python[81464:15523350] +[IMKInputSession subclass]: chose IMKInputSession_Modern\n"
     ]
    },
    {
     "name": "stdout",
     "output_type": "stream",
     "text": [
      "You've lost! The purple turtle is the winner!\n"
     ]
    }
   ],
   "source": [
    "from turtle import Turtle as t, Screen as s\n",
    "import random\n",
    "\n",
    "is_race_on = False\n",
    "screen = s()\n",
    "screen.setup(width=500, height=400) # resize window\n",
    "user_bet = screen.textinput(title=\"Make your bet\", prompt=\"Which turtle will win the race? Enter a color: \") # using GUI for input\n",
    "\n",
    "if user_bet:\n",
    "    is_race_on = True\n",
    "\n",
    "colors = [\"red\", \"orange\", \"yellow\", \"green\", \"blue\", \"purple\"]\n",
    "y_positions = [-70, -40, -10, 20, 50, 80] # space out turtles vertically\n",
    "all_turtles = []\n",
    "\n",
    "for turtle_index in range(0, 6):\n",
    "    new_turtle = t(shape=\"turtle\") # timmy and turtle are different instances of the same class\n",
    "    new_turtle.color(colors[turtle_index])\n",
    "    new_turtle.penup()\n",
    "    new_turtle.goto(x=-230, y=y_positions[turtle_index])\n",
    "    all_turtles.append(new_turtle) # add all new turtles to a list\n",
    "\n",
    "# Different instances can be in different states (having different attributes, performing different methods)\n",
    "\n",
    "# race\n",
    "while is_race_on:\n",
    "    for turtle in all_turtles:\n",
    "        if turtle.xcor() > 230: # the midline of a 40 x 40 turtle crosses 230\n",
    "            is_race_on = False\n",
    "\n",
    "            winning_color = turtle.pencolor()\n",
    "\n",
    "            if winning_color ==  user_bet:\n",
    "                print(f\"You've won! The {winning_color} turtle is the winner!\")\n",
    "            else:\n",
    "                print(f\"You've lost! The {winning_color} turtle is the winner!\")\n",
    "\n",
    "        rand_distance = random.randint(0, 10)\n",
    "        turtle.forward(rand_distance) # seem to be racing simultaneously, but are actually taking turns\n",
    "\n",
    "screen.exitonclick()\n"
   ]
  },
  {
   "cell_type": "markdown",
   "id": "ac618840-e122-45a1-bfa1-12674a886fc1",
   "metadata": {},
   "source": [
    "### <b>Snake Game Part 1: Animation and Coordinates<b>\n",
    "A snake game with a controllable, moving snake that eats food and grows in length as it does. The goal is to eat as much food as possible (given by the score) while staying alive by avoiding eating itself. Part I covers creating the snake, moving the snake and controlling the snake, while using Classes."
   ]
  },
  {
   "cell_type": "code",
   "execution_count": null,
   "id": "019c78ab-9443-4fef-9a46-94e4eb4d9c47",
   "metadata": {},
   "outputs": [],
   "source": [
    "from turtle import Screen, Turtle\n",
    "import time\n",
    "\n",
    "screen = Screen()\n",
    "screen.setup(width=600, height=600)\n",
    "screen.bgcolor(\"black\")\n",
    "screen.title(\"My Snake Game\")\n",
    "screen.tracer(0) # turn off automatic updates; screen updates after every small turtle movement by default\n",
    "\n",
    "# Create the snake body; made up of 3 square blocks\n",
    "segments = []\n",
    "starting_positions = [(0, 0), (-20, 0), (-40, 0)] # alright to hardcode starting coordinates unlikely to change\n",
    "\n",
    "for segment_index in starting_positions:\n",
    "    new_segment = Turtle(shape=\"square\")\n",
    "    new_segment.color(\"white\")\n",
    "    new_segment.penup()\n",
    "    new_segment.goto(segment_index)\n",
    "    segments.append(new_segment)\n",
    "\n",
    "# Moving the snake\n",
    "game_is_on = True\n",
    "\n",
    "while game_is_on:\n",
    "    screen.update() # skips the sequential display of the generation, positioning and movement and following of segments; contiguous movement\n",
    "    \n",
    "    time.sleep(0.1) # reasonable speed for snake\n",
    "    \n",
    "    for seg_num in range(len(segments) - 1, 0, -1): # 3, 2, 1 descending\n",
    "        new_x = segments[seg_num - 1].xcor()\n",
    "        new_y = segments[seg_num - 1].ycor()\n",
    "        segments[seg_num].goto(new_x, new_y) # segment 3 moves to the coords of 2; 2 to the coord of 1\n",
    "        \n",
    "    segments[0].forward(20) # the leading segment, which the loop above allow the other segments \"follow\"\n",
    "    \n",
    "# at this point, the instructor advises turning the above into a Snake class: \n",
    "\n",
    "STARTING_POSITIONS = [(0, 0), (-20, 0), (-40, 0)] # a constant\n",
    "\n",
    "class Snake:\n",
    "\n",
    "    def __init__(self):\n",
    "        self.segments=[]\n",
    "        self.create_snake()\n",
    "\n",
    "    def create_snake(self): # initialising the snake in the starting position, as a method\n",
    "        for position in STARTING_POSITIONS:\n",
    "            new_segment = Turtle(shape=\"square\")\n",
    "            new_segment.color(\"white\")\n",
    "            new_segment.penup()\n",
    "            new_segment.goto(segment_index)\n",
    "            self.segments.append(new_segment) # storing in the self.segments list\n",
    "\n",
    "\n",
    "    def move(self): # initialising the movement logic\n",
    "        for seg_num in range(len(self.segments) - 1, 0, -1):\n",
    "            new_x = self.segments[seg_num - 1].xcor()\n",
    "            new_y = self.segments[seg_num - 1].ycor()\n",
    "            self.segments[seg_num].goto(new_x, new_y)\n",
    "            \n",
    "        self.segments[0].forward(20)\n",
    "\n",
    "screen.exitonclick()\n"
   ]
  },
  {
   "cell_type": "markdown",
   "id": "e6012393-c8d6-4b51-a4f6-98683dc1b6d8",
   "metadata": {},
   "source": [
    "<b>Converting the Logic into a Class</b>"
   ]
  },
  {
   "cell_type": "code",
   "execution_count": 2,
   "id": "7f2c5228-cdbb-4c3d-a00b-0cd0b8004b4a",
   "metadata": {},
   "outputs": [],
   "source": [
    "# at this point, the instructor advises turning the above into a Snake class (snake.py in directory)\n",
    "from turtle import Turtle\n",
    "\n",
    "STARTING_POSITIONS = [(0, 0), (-20, 0), (-40, 0)] # a constant\n",
    "MOVE_DISTANCE = 20\n",
    "UP = 90\n",
    "DOWN = 270\n",
    "LEFT = 180\n",
    "RIGHT = 0\n",
    "\n",
    "class Snake:\n",
    "\n",
    "    def __init__(self):\n",
    "        self.segments=[]\n",
    "        self.create_snake()\n",
    "        self.head = self.segments[0] # give the head a simple name for use later\n",
    "\n",
    "    def create_snake(self): # initialising the snake in the starting position, as a method\n",
    "        for position in STARTING_POSITIONS:\n",
    "            self.add_segment(position)\n",
    "\n",
    "    def add_segment(self, position):\n",
    "        new_segment = Turtle(shape=\"square\")\n",
    "        new_segment.color(\"white\")\n",
    "        new_segment.penup()\n",
    "        new_segment.goto(position)\n",
    "        self.segments.append(new_segment) # storing in the self.segments list\n",
    "\n",
    "    # add_segment is given its own function, so it can be used not just during init but for extension\n",
    "    def extend(self):\n",
    "        self.add_segment(self.segments[-1].position()) # adds new segment to the last position vacated\n",
    "\n",
    "    def move(self): # initialising the movement logic\n",
    "        for seg_num in range(len(self.segments) - 1, 0, -1):\n",
    "            new_x = self.segments[seg_num - 1].xcor()\n",
    "            new_y = self.segments[seg_num - 1].ycor()\n",
    "            self.segments[seg_num].goto(new_x, new_y)\n",
    "            \n",
    "        self.head.forward(MOVE_DISTANCE)\n",
    "\n",
    "    def up(self): # methods for the event listener\n",
    "        if self.head.heading() != DOWN: # prevents snake from changing 180 degrees into itself\n",
    "            self.head.setheading(UP)\n",
    "\n",
    "    def down(self):\n",
    "        if self.head.heading() != UP:\n",
    "            self.head.setheading(DOWN)\n",
    "\n",
    "    def left(self):\n",
    "        if self.head.heading() != RIGHT:\n",
    "            self.head.setheading(LEFT)\n",
    "        \n",
    "    def right(self):\n",
    "        if self.head.heading() != LEFT:\n",
    "            self.head.setheading(RIGHT)\n",
    "        "
   ]
  },
  {
   "cell_type": "code",
   "execution_count": null,
   "id": "040b9114-1378-412e-9e3c-dcc08058c452",
   "metadata": {},
   "outputs": [],
   "source": [
    "# the highest level program is by convention main.py\n",
    "\n",
    "from turtle import Screen, Turtle\n",
    "import sys\n",
    "sys.path.append('/Users/mujiechen/Library/CloudStorage/Dropbox/100 Days of Code/Snake Game')\n",
    "from snake import Snake # now we can use this class\n",
    "import time\n",
    "\n",
    "screen = Screen()\n",
    "screen.setup(width=600, height=600)\n",
    "screen.bgcolor(\"black\")\n",
    "screen.title(\"My Snake Game\")\n",
    "screen.tracer(0)\n",
    "\n",
    "snake = Snake()\n",
    "\n",
    "screen.listen() # for controlling the snake using keystroke via the GUI\n",
    "screen.onkey(snake.up, \"Up\") # method, and the key trigger\n",
    "screen.onkey(snake.down, \"Down\")\n",
    "screen.onkey(snake.left, \"Left\")\n",
    "screen.onkey(snake.right, \"Right\")\n",
    "\n",
    "game_is_on = True\n",
    "\n",
    "while game_is_on:\n",
    "    screen.update()\n",
    "    time.sleep(0.1)\n",
    "\n",
    "    snake.move() # movement is now abstracted away at this level\n"
   ]
  },
  {
   "cell_type": "markdown",
   "id": "246fc37d-47aa-432c-bcc6-1116a2da7cdb",
   "metadata": {},
   "source": [
    "### <b>Snake Game Part 2: Class Inheritance and List Slicing<b>\n",
    "Instead of reconstructing a class for objects that may specialise in a new function, the new class can \"inherit\" the attributes and methods from a more primitive class e.g. a \"Pastry Chef\" that can knead(), whisk() in addition to the base bake(), stir() and measure() functionality of \"Chef\". The superclass to inherit from must be specified when defining the class.<br>\n",
    "\n",
    "Part II focuses on detecting collision with food, simultaneously creating a new food at a random location. The score is then kept in a scoreboard. Finally, the program detects a collision with a wall or its own tail, subsequently ending the game."
   ]
  },
  {
   "cell_type": "code",
   "execution_count": 4,
   "id": "1f9e6ed8-0ce9-462b-b027-09654c322e79",
   "metadata": {},
   "outputs": [
    {
     "name": "stdout",
     "output_type": "stream",
     "text": [
      "moving in water.\n",
      "Inhale, exhale.\n",
      "doing this underwater.\n",
      "2\n",
      "['c', 'd', 'e']\n",
      "['c', 'd', 'e', 'f', 'g']\n",
      "['a', 'b', 'c', 'd', 'e']\n",
      "['a', 'c', 'e', 'g']\n",
      "['g', 'f', 'e', 'd', 'c', 'b', 'a']\n"
     ]
    }
   ],
   "source": [
    "class Animal:\n",
    "    def __init__(self):\n",
    "        self.num_eyes = 2\n",
    "\n",
    "    def breathe(self):\n",
    "        print(\"Inhale, exhale.\")\n",
    "\n",
    "class Fish(Animal): # when defining the subclass, specify Animal as the superclass\n",
    "    def __init__(self):\n",
    "        super().__init__() # inherits all attributes and methods from the superclass\n",
    "\n",
    "    def breathe(self):\n",
    "        super().breathe() # pull from the same method in the superclass;\n",
    "        print(\"doing this underwater.\") # add additional functionality\n",
    "\n",
    "    def swim(self): # additional functionality\n",
    "        print(\"moving in water.\")\n",
    "\n",
    "nemo = Fish()\n",
    "nemo.swim()\n",
    "nemo.breathe()\n",
    "print(nemo.num_eyes)\n",
    "\n",
    "# list slicing; works with tuples too\n",
    "piano_keys = [\"a\", \"b\", \"c\", \"d\", \"e\", \"f\", \"g\"]\n",
    "\n",
    "print(piano_keys[2:5]) # index 2 to 5 excluding of 5\n",
    "print(piano_keys[2:])\n",
    "print(piano_keys[:5])\n",
    "print(piano_keys[::2]) # beginning to end, every other\n",
    "print(piano_keys[::-1]) # neat trick to access back to front\n"
   ]
  },
  {
   "cell_type": "code",
   "execution_count": null,
   "id": "f5d7af0a-5fe1-44af-81e8-5a18b1132309",
   "metadata": {},
   "outputs": [],
   "source": [
    "# setting up the food class, which is also a turtle\n",
    "\n",
    "from turtle import Turtle\n",
    "import random\n",
    "\n",
    "class Food(Turtle): # food to inherit turtle initialisation\n",
    "    def __init__(self):\n",
    "        super().__init__()\n",
    "        self.shape(\"circle\") # a class Food, with food properties; rather than a class Turtle assigned to a food name\n",
    "        self.penup()\n",
    "        self.shapesize(stretch_len=0.5, stretch_wid=0.5)\n",
    "        self.color(\"blue\")\n",
    "        self.speed(\"fastest\")\n",
    "        random_x = random.randint(-200, 200)\n",
    "        random_y = random.randint(-200, 200)\n",
    "        self.goto(random_x, random_y)\n",
    "        self.refresh()\n",
    "\n",
    "    def refresh(self): # factor out the varying attributes every time food is eaten\n",
    "        random_x = random.randint(-200, 200)\n",
    "        random_y = random.randint(-200, 200)\n",
    "        self.goto(random_x, random_y)\n"
   ]
  },
  {
   "cell_type": "code",
   "execution_count": 4,
   "id": "6806dc43-aca6-48e2-8d99-8953876267ed",
   "metadata": {},
   "outputs": [],
   "source": [
    "# setting up the scoreboard class, which is also a turtle\n",
    "\n",
    "from turtle import Turtle\n",
    "\n",
    "ALIGNMENT = \"center\"\n",
    "FONT = (\"Arial\", 24, \"normal\") # font as a tuple\n",
    "\n",
    "class Scoreboard(Turtle):\n",
    "    def __init__(self):\n",
    "        super().__init__()\n",
    "        self.score = 0\n",
    "        self.color(\"white\")\n",
    "        self.penup()\n",
    "        self.goto(0, 270)\n",
    "        self.update_scoreboard()\n",
    "        self.hideturtle()\n",
    "\n",
    "    def update_scoreboard(self):\n",
    "        self.write(f\"Score: {self.score}\", align=ALIGNMENT, font=FONT) # using global constants here\n",
    "\n",
    "    def increase_score(self):\n",
    "        self.score += 1\n",
    "        self.clear() # so it does not overlap\n",
    "        self.update_scoreboard() # rewrite the new score; abstracted out as its the same as inititialisation\n",
    "\n",
    "    def game_over(self):\n",
    "        self.goto(0, 0)\n",
    "        self.write(\"GAME OVER\", align=ALIGNMENT, font=FONT)\n",
    "        "
   ]
  },
  {
   "cell_type": "code",
   "execution_count": 1,
   "id": "87cdc3c1-7389-4bb0-b32a-be51282eb554",
   "metadata": {},
   "outputs": [],
   "source": [
    "from turtle import Screen, Turtle\n",
    "import sys\n",
    "sys.path.append('/Users/mujiechen/Library/CloudStorage/Dropbox/100 Days of Code/Snake Game')\n",
    "from snake import Snake # now we can use this class\n",
    "from food import Food # food as a subclass inheriting Turtle superclass properties\n",
    "from scoreboard import Scoreboard\n",
    "import time\n",
    "\n",
    "screen = Screen()\n",
    "screen.setup(width=600, height=600)\n",
    "screen.bgcolor(\"black\")\n",
    "screen.title(\"My Snake Game\")\n",
    "screen.tracer(0)\n",
    "\n",
    "snake = Snake()\n",
    "food = Food()\n",
    "scoreboard = Scoreboard()\n",
    "\n",
    "screen.listen() # for controlling the snake using keystroke via the GUI\n",
    "screen.onkey(snake.up, \"Up\") # method, and the key trigger\n",
    "screen.onkey(snake.down, \"Down\")\n",
    "screen.onkey(snake.left, \"Left\")\n",
    "screen.onkey(snake.right, \"Right\")\n",
    "\n",
    "game_is_on = True\n",
    "\n",
    "while game_is_on:\n",
    "    screen.update()\n",
    "    time.sleep(0.1)\n",
    "\n",
    "    # detect collision with food; then regenerate another piece at another location\n",
    "    if snake.head.distance(food) < 15: # within 15 pixels\n",
    "        food.refresh()\n",
    "        snake.extend()\n",
    "\n",
    "        # scoreboard\n",
    "        scoreboard.increase_score()\n",
    "\n",
    "    # detect head collision with wall; end game\n",
    "    if snake.head.xcor() > 280 or snake.head.xcor() < -280 or snake.head.ycor() > 280 or snake.head.ycor() < -280:\n",
    "        game_is_on = False # snake stops moving\n",
    "        scoreboard.game_over() # displys game over message in center\n",
    "\n",
    "    # detect head collision with any part of body; end game\n",
    "    \n",
    "    # for segment in snake.segments:\n",
    "    #    if segment == snake.head: # prevent head to head logic\n",
    "    #        pass\n",
    "    #    elif snake.head.distance(segment) < 10:\n",
    "    #        game_is_on = False\n",
    "    #        scoreboard.game_over()\n",
    "\n",
    "    for segment in snake.segments[1:]: # list slicing saves using an additional pass statement\n",
    "        if snake.head.distance(segment) < 10:\n",
    "            game_is_on = False\n",
    "            scoreboard.game_over()\n",
    "        \n",
    "    snake.move() # movement is now abstracted away at this level\n",
    "\n",
    "screen.exitonclick()"
   ]
  },
  {
   "cell_type": "markdown",
   "id": "a78b27fb-9355-4868-8e2e-860d9221cd9a",
   "metadata": {},
   "source": [
    "### <b>Project 22: Pong<b>\n",
    "Pong was a game written by Allan Alcorn as a new recruit at the Atari company, which subsequently became massively popular. "
   ]
  },
  {
   "cell_type": "code",
   "execution_count": null,
   "id": "6642ad6d-9286-4207-a287-803a313e3a81",
   "metadata": {},
   "outputs": [],
   "source": [
    "# this is main.py; paddle, ball and scoreboard are stored under \"Pong Game\"\n",
    "\n",
    "from turtle import Turtle, Screen\n",
    "import sys\n",
    "sys.path.append('/Users/mujiechen/Library/CloudStorage/Dropbox/100 Days of Code/Pong Game')\n",
    "from paddle import Paddle # a paddle class inheriting from Turtle, taking position as argument and necessary transformations\n",
    "from ball import Ball # a ball class inheriting from Turtle, with movement and bouncing logic\n",
    "import time\n",
    "from scoreboard import Scoreboard\n",
    "\n",
    "# a class for the Pong ball, with random initialised angle, bounce on wall, and paddle bounce trajectory \n",
    "\n",
    "# a class for the scoreboard, with update_score function, and write player 1/2 wins\n",
    "\n",
    "# main.py with game_is_on, draw midline, terminate when ball is past end zones\n",
    "\n",
    "screen = Screen()\n",
    "screen.bgcolor(\"black\")\n",
    "screen.setup(width=800, height=600)\n",
    "screen.title(\"Pong\")\n",
    "screen.tracer(0) # turns off animation, updates to be specified\n",
    "\n",
    "# left and right paddles, responsive to movement, each with w20, h100, x_pos 350/-350 and y_post at 0 (starting)\n",
    "\n",
    "l_paddle = Paddle((-350, 0))\n",
    "r_paddle = Paddle((350, 0))\n",
    "\n",
    "screen.listen()\n",
    "screen.onkey(r_paddle.go_up, \"Up\") # function triggered by Up arrow key\n",
    "screen.onkey(r_paddle.go_down, \"Down\") # function triggered by Down arrow key\n",
    "screen.onkey(l_paddle.go_up, \"w\")\n",
    "screen.onkey(l_paddle.go_down, \"s\")\n",
    "\n",
    "ball = Ball()\n",
    "scoreboard = Scoreboard()\n",
    "\n",
    "# main game logic\n",
    "game_is_on = True\n",
    "\n",
    "while game_is_on:\n",
    "    time.sleep(ball.move_speed) # slows down the movement of the ball, can also reduce new_x/y by a factor of 10\n",
    "    screen.update() # skips the setup of paddle in center and moving to edges\n",
    "    ball.move()\n",
    "\n",
    "    # detect collision with wall and call bounce_y()\n",
    "    if ball.ycor() > 280 or ball.ycor() < -280: # 280 just from trial and error\n",
    "        ball.bounce_y()\n",
    "\n",
    "    # detect collision with L/R paddles and call bounce_x()\n",
    "    if ball.distance(r_paddle) < 50 and ball.xcor() > 320 or ball.distance(l_paddle) < 50 and ball.xcor() < -320: # 2 criteria to accomodate non-center hits\n",
    "        ball.bounce_x()\n",
    "        ball.move_speed *= 0.9 # reduces time.sleep by 10% each time paddle hits the ball; speeding up the ball\n",
    "\n",
    "    # detect when the R paddle misses the ball, call home()\n",
    "    if ball.xcor() > 380:\n",
    "        ball.reset_position() # bounces x to switch first hit to other player\n",
    "        ball.move_speed = 0.1 # reset speed to default\n",
    "        scoreboard.l_point() # when R misses, L gets the score\n",
    "\n",
    "    # detect when the L paddle misses\n",
    "    if ball.xcor() < -380: # L and R miss separated for point tabulation purposes\n",
    "        ball.reset_position()\n",
    "        ball.move_speed = 0.1\n",
    "        scoreboard.r_point()\n",
    "\n",
    "screen.exitonclick()\n"
   ]
  },
  {
   "cell_type": "markdown",
   "id": "4a5517a2-d711-4fb8-a4bf-724ddb5ce3b5",
   "metadata": {},
   "source": [
    "### <b>Turtle Crossing Capstone Project<b>\n",
    "A bunch of cars are going across a busy multi-lane highway, while a turtle (player) tries to cross it, similar to Cross Road. Once the player reaches the other side of the screen, the cars speed up, but the player goes back to the starting position, ready to cross the screen again. The game is over when the turtle hits a car."
   ]
  },
  {
   "cell_type": "code",
   "execution_count": 1,
   "id": "945c1d5d-1bfa-4423-ba15-1c7cd2c920f0",
   "metadata": {},
   "outputs": [],
   "source": [
    "# car_manager, player, scoreboard and the header of main.py were provided\n",
    "\n",
    "import time\n",
    "import sys\n",
    "sys.path.append('/Users/mujiechen/Library/CloudStorage/Dropbox/100 Days of Code/Turtle Crossing')\n",
    "from turtle import Screen\n",
    "from player import Player\n",
    "from car_manager import CarManager\n",
    "from scoreboard import Scoreboard\n",
    "\n",
    "screen = Screen()\n",
    "screen.title(\"Turtle Crossing\")\n",
    "screen.setup(width=600, height=600)\n",
    "screen.tracer(0) # specify manual update\n",
    "\n",
    "player = Player()\n",
    "scoreboard = Scoreboard()\n",
    "car_manager = CarManager()\n",
    "\n",
    "screen.listen()\n",
    "screen.onkey(player.move, \"Up\") # player.move() triggered by up arrow key, no back or sideways\n",
    "\n",
    "game_is_on = True\n",
    "\n",
    "while game_is_on:\n",
    "    time.sleep(0.1)\n",
    "    screen.update()\n",
    "    \n",
    "    car_manager.create_car()\n",
    "    car_manager.move_cars()\n",
    "\n",
    "    if player.ycor() > 280: # new level when player crosses 280 on y-axis (successful crossing)\n",
    "        scoreboard.increase_level()\n",
    "        player.go_to_start()\n",
    "        car_manager.level_up() # triggers speed increment\n",
    "\n",
    "    for car in car_manager.cars: # collision logic\n",
    "        if car.distance(player) < 20:\n",
    "            game_is_on = False\n",
    "            scoreboard.game_over()\n",
    "    \n",
    "screen.exitonclick()\n"
   ]
  },
  {
   "cell_type": "markdown",
   "id": "3a6018d4-1d29-40c2-8b3e-ef63a046057a",
   "metadata": {},
   "source": [
    "### Files, Directories, Paths\n"
   ]
  },
  {
   "cell_type": "code",
   "execution_count": null,
   "id": "b0001dad-bed1-4dfe-9fa4-f9ada0d7c5f2",
   "metadata": {},
   "outputs": [],
   "source": []
  },
  {
   "cell_type": "code",
   "execution_count": null,
   "id": "fbb2d18f-09ba-45de-a17c-82035b55e937",
   "metadata": {},
   "outputs": [],
   "source": []
  },
  {
   "cell_type": "markdown",
   "id": "a2d2a5d4-df3f-4687-ba0f-f651faa754a3",
   "metadata": {},
   "source": [
    "intermediate lesson 25 - 31<br>\n",
    "working with CSV data and pandas library<br>\n",
    "list comprehension and NATO alphabet<br>\n",
    "tkinter, *args, **kwargs and creating GUI programs<br>\n",
    "tkiner, dynamic typing and promodoro GUI<br>\n",
    "building a password manager GUI app with tkinter<br>\n",
    "errors, exceptions and JSON data<br>\n",
    "flash card capstone project"
   ]
  },
  {
   "cell_type": "markdown",
   "id": "aca49edd-a649-4ea0-ac3b-bea78985c7f9",
   "metadata": {},
   "source": [
    "intermediate+ starts here (32 to 40, 45 to 57)"
   ]
  },
  {
   "cell_type": "markdown",
   "id": "cdf6bd32-5980-49ab-8b58-ef3b8d523afd",
   "metadata": {},
   "source": [
    "web foundation starts here (41 to 44, 58)"
   ]
  },
  {
   "cell_type": "markdown",
   "id": "f1abc72e-6f11-4151-b083-89ff60bd1c0a",
   "metadata": {},
   "source": [
    "advanced starts here (59 - 81)"
   ]
  },
  {
   "cell_type": "markdown",
   "id": "9fa65244-65f0-49d5-947a-5f381c2d5324",
   "metadata": {},
   "source": [
    "professional starts here (82 - 100)"
   ]
  },
  {
   "cell_type": "code",
   "execution_count": null,
   "id": "ca448798-7962-4025-8d76-2d531f5e23d6",
   "metadata": {},
   "outputs": [],
   "source": []
  }
 ],
 "metadata": {
  "kernelspec": {
   "display_name": "python 3.12 (colorgram)",
   "language": "python",
   "name": "python_3_12"
  },
  "language_info": {
   "codemirror_mode": {
    "name": "ipython",
    "version": 3
   },
   "file_extension": ".py",
   "mimetype": "text/x-python",
   "name": "python",
   "nbconvert_exporter": "python",
   "pygments_lexer": "ipython3",
   "version": "3.12.7"
  }
 },
 "nbformat": 4,
 "nbformat_minor": 5
}
